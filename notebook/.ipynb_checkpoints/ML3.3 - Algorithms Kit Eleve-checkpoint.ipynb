{
 "cells": [
  {
   "cell_type": "markdown",
   "metadata": {},
   "source": [
    "# Dataset "
   ]
  },
  {
   "cell_type": "markdown",
   "metadata": {},
   "source": [
    "https://www.kaggle.com/mariaren/covid19-healthy-diet-dataset"
   ]
  },
  {
   "cell_type": "markdown",
   "metadata": {},
   "source": [
    "# Problem definition "
   ]
  },
  {
   "cell_type": "markdown",
   "metadata": {},
   "source": [
    "We chose a dataset combining different types of food, world population obesity and undernourished rate, and global covid cases count from around the world.\n",
    "\n",
    "The idea is to understand how a healthy eating style could help combat the coronavirus, distinguishing the diet patterns from countries with lower COVID infection rate.\n",
    "\n",
    "Our goal here is to provide diet recommendations base on our findings.\n",
    "\n",
    "Each dataset provides different diet measure different categories of food, depending on what we want to focus on, so we have\n",
    "\n",
    "- fat quantity,\n",
    "- energy intake (kcal),\n",
    "- food supply quantity (kg),\n",
    "- protein for different categories of food\n",
    "\n",
    "To which have been added:\n",
    "\n",
    "- obesity rate\n",
    "- undernourished rate\n",
    "- the most up to date confirmed/deaths/recovered/active cases.\n",
    "\n",
    "We are going to focus on the fat quantity dataset."
   ]
  },
  {
   "cell_type": "markdown",
   "metadata": {},
   "source": [
    "Let's start by loading the data"
   ]
  },
  {
   "cell_type": "code",
   "execution_count": 58,
   "metadata": {
    "scrolled": true
   },
   "outputs": [],
   "source": [
    "# On importe les modules dont on pourrait avoir besoin dans le notebook\n",
    "import pandas as pd\n",
    "import matplotlib.pyplot as plt\n",
    "import numpy as np\n",
    "\n",
    "# On importe les données\n",
    "fat_quantity = pd.read_csv(\"../data/Fat_Supply_Quantity_Data.csv\")"
   ]
  },
  {
   "cell_type": "markdown",
   "metadata": {},
   "source": [
    " ## Data Exploration and Processing"
   ]
  },
  {
   "cell_type": "markdown",
   "metadata": {},
   "source": [
    "Now let's explore the dataset:\n",
    "- check the head\n",
    "- the columns\n",
    "- the variable types"
   ]
  },
  {
   "cell_type": "code",
   "execution_count": 59,
   "metadata": {},
   "outputs": [
    {
     "data": {
      "text/html": [
       "<div>\n",
       "<style scoped>\n",
       "    .dataframe tbody tr th:only-of-type {\n",
       "        vertical-align: middle;\n",
       "    }\n",
       "\n",
       "    .dataframe tbody tr th {\n",
       "        vertical-align: top;\n",
       "    }\n",
       "\n",
       "    .dataframe thead th {\n",
       "        text-align: right;\n",
       "    }\n",
       "</style>\n",
       "<table border=\"1\" class=\"dataframe\">\n",
       "  <thead>\n",
       "    <tr style=\"text-align: right;\">\n",
       "      <th></th>\n",
       "      <th>Country</th>\n",
       "      <th>Alcoholic Beverages</th>\n",
       "      <th>Animal Products</th>\n",
       "      <th>Animal fats</th>\n",
       "      <th>Aquatic Products, Other</th>\n",
       "      <th>Cereals - Excluding Beer</th>\n",
       "      <th>Eggs</th>\n",
       "      <th>Fish, Seafood</th>\n",
       "      <th>Fruits - Excluding Wine</th>\n",
       "      <th>Meat</th>\n",
       "      <th>...</th>\n",
       "      <th>Vegetable Oils</th>\n",
       "      <th>Vegetables</th>\n",
       "      <th>Obesity</th>\n",
       "      <th>Undernourished</th>\n",
       "      <th>Confirmed</th>\n",
       "      <th>Deaths</th>\n",
       "      <th>Recovered</th>\n",
       "      <th>Active</th>\n",
       "      <th>Population</th>\n",
       "      <th>Unit (all except Population)</th>\n",
       "    </tr>\n",
       "  </thead>\n",
       "  <tbody>\n",
       "    <tr>\n",
       "      <th>0</th>\n",
       "      <td>Afghanistan</td>\n",
       "      <td>0.0</td>\n",
       "      <td>21.6397</td>\n",
       "      <td>6.2224</td>\n",
       "      <td>0.0</td>\n",
       "      <td>8.0353</td>\n",
       "      <td>0.6859</td>\n",
       "      <td>0.0327</td>\n",
       "      <td>0.4246</td>\n",
       "      <td>6.1244</td>\n",
       "      <td>...</td>\n",
       "      <td>17.0831</td>\n",
       "      <td>0.3593</td>\n",
       "      <td>4.5</td>\n",
       "      <td>29.8</td>\n",
       "      <td>0.125149</td>\n",
       "      <td>0.005058</td>\n",
       "      <td>0.098263</td>\n",
       "      <td>0.021827</td>\n",
       "      <td>38928000.0</td>\n",
       "      <td>%</td>\n",
       "    </tr>\n",
       "    <tr>\n",
       "      <th>1</th>\n",
       "      <td>Albania</td>\n",
       "      <td>0.0</td>\n",
       "      <td>32.0002</td>\n",
       "      <td>3.4172</td>\n",
       "      <td>0.0</td>\n",
       "      <td>2.6734</td>\n",
       "      <td>1.6448</td>\n",
       "      <td>0.1445</td>\n",
       "      <td>0.6418</td>\n",
       "      <td>8.7428</td>\n",
       "      <td>...</td>\n",
       "      <td>9.2443</td>\n",
       "      <td>0.6503</td>\n",
       "      <td>22.3</td>\n",
       "      <td>6.2</td>\n",
       "      <td>1.733298</td>\n",
       "      <td>0.035800</td>\n",
       "      <td>0.874560</td>\n",
       "      <td>0.822939</td>\n",
       "      <td>2838000.0</td>\n",
       "      <td>%</td>\n",
       "    </tr>\n",
       "    <tr>\n",
       "      <th>2</th>\n",
       "      <td>Algeria</td>\n",
       "      <td>0.0</td>\n",
       "      <td>14.4175</td>\n",
       "      <td>0.8972</td>\n",
       "      <td>0.0</td>\n",
       "      <td>4.2035</td>\n",
       "      <td>1.2171</td>\n",
       "      <td>0.2008</td>\n",
       "      <td>0.5772</td>\n",
       "      <td>3.8961</td>\n",
       "      <td>...</td>\n",
       "      <td>27.3606</td>\n",
       "      <td>0.5145</td>\n",
       "      <td>26.6</td>\n",
       "      <td>3.9</td>\n",
       "      <td>0.208754</td>\n",
       "      <td>0.005882</td>\n",
       "      <td>0.137268</td>\n",
       "      <td>0.065604</td>\n",
       "      <td>44357000.0</td>\n",
       "      <td>%</td>\n",
       "    </tr>\n",
       "    <tr>\n",
       "      <th>3</th>\n",
       "      <td>Angola</td>\n",
       "      <td>0.0</td>\n",
       "      <td>15.3041</td>\n",
       "      <td>1.3130</td>\n",
       "      <td>0.0</td>\n",
       "      <td>6.5545</td>\n",
       "      <td>0.1539</td>\n",
       "      <td>1.4155</td>\n",
       "      <td>0.3488</td>\n",
       "      <td>11.0268</td>\n",
       "      <td>...</td>\n",
       "      <td>22.4638</td>\n",
       "      <td>0.1231</td>\n",
       "      <td>6.8</td>\n",
       "      <td>25</td>\n",
       "      <td>0.050049</td>\n",
       "      <td>0.001144</td>\n",
       "      <td>0.027440</td>\n",
       "      <td>0.021465</td>\n",
       "      <td>32522000.0</td>\n",
       "      <td>%</td>\n",
       "    </tr>\n",
       "    <tr>\n",
       "      <th>4</th>\n",
       "      <td>Antigua and Barbuda</td>\n",
       "      <td>0.0</td>\n",
       "      <td>27.7033</td>\n",
       "      <td>4.6686</td>\n",
       "      <td>0.0</td>\n",
       "      <td>3.2153</td>\n",
       "      <td>0.3872</td>\n",
       "      <td>1.5263</td>\n",
       "      <td>1.2177</td>\n",
       "      <td>14.3202</td>\n",
       "      <td>...</td>\n",
       "      <td>14.4436</td>\n",
       "      <td>0.2469</td>\n",
       "      <td>19.1</td>\n",
       "      <td>NaN</td>\n",
       "      <td>0.151020</td>\n",
       "      <td>0.005102</td>\n",
       "      <td>0.140816</td>\n",
       "      <td>0.005102</td>\n",
       "      <td>98000.0</td>\n",
       "      <td>%</td>\n",
       "    </tr>\n",
       "  </tbody>\n",
       "</table>\n",
       "<p>5 rows × 32 columns</p>\n",
       "</div>"
      ],
      "text/plain": [
       "               Country  Alcoholic Beverages  Animal Products  Animal fats  \\\n",
       "0          Afghanistan                  0.0          21.6397       6.2224   \n",
       "1              Albania                  0.0          32.0002       3.4172   \n",
       "2              Algeria                  0.0          14.4175       0.8972   \n",
       "3               Angola                  0.0          15.3041       1.3130   \n",
       "4  Antigua and Barbuda                  0.0          27.7033       4.6686   \n",
       "\n",
       "   Aquatic Products, Other  Cereals - Excluding Beer    Eggs  Fish, Seafood  \\\n",
       "0                      0.0                    8.0353  0.6859         0.0327   \n",
       "1                      0.0                    2.6734  1.6448         0.1445   \n",
       "2                      0.0                    4.2035  1.2171         0.2008   \n",
       "3                      0.0                    6.5545  0.1539         1.4155   \n",
       "4                      0.0                    3.2153  0.3872         1.5263   \n",
       "\n",
       "   Fruits - Excluding Wine     Meat  ...  Vegetable Oils  Vegetables  Obesity  \\\n",
       "0                   0.4246   6.1244  ...         17.0831      0.3593      4.5   \n",
       "1                   0.6418   8.7428  ...          9.2443      0.6503     22.3   \n",
       "2                   0.5772   3.8961  ...         27.3606      0.5145     26.6   \n",
       "3                   0.3488  11.0268  ...         22.4638      0.1231      6.8   \n",
       "4                   1.2177  14.3202  ...         14.4436      0.2469     19.1   \n",
       "\n",
       "   Undernourished  Confirmed    Deaths  Recovered    Active  Population  \\\n",
       "0            29.8   0.125149  0.005058   0.098263  0.021827  38928000.0   \n",
       "1             6.2   1.733298  0.035800   0.874560  0.822939   2838000.0   \n",
       "2             3.9   0.208754  0.005882   0.137268  0.065604  44357000.0   \n",
       "3              25   0.050049  0.001144   0.027440  0.021465  32522000.0   \n",
       "4             NaN   0.151020  0.005102   0.140816  0.005102     98000.0   \n",
       "\n",
       "   Unit (all except Population)  \n",
       "0                             %  \n",
       "1                             %  \n",
       "2                             %  \n",
       "3                             %  \n",
       "4                             %  \n",
       "\n",
       "[5 rows x 32 columns]"
      ]
     },
     "execution_count": 59,
     "metadata": {},
     "output_type": "execute_result"
    }
   ],
   "source": [
    "fat_quantity.head()"
   ]
  },
  {
   "cell_type": "code",
   "execution_count": 60,
   "metadata": {},
   "outputs": [
    {
     "data": {
      "text/plain": [
       "Index(['Country', 'Alcoholic Beverages', 'Animal Products', 'Animal fats',\n",
       "       'Aquatic Products, Other', 'Cereals - Excluding Beer', 'Eggs',\n",
       "       'Fish, Seafood', 'Fruits - Excluding Wine', 'Meat', 'Miscellaneous',\n",
       "       'Milk - Excluding Butter', 'Offals', 'Oilcrops', 'Pulses', 'Spices',\n",
       "       'Starchy Roots', 'Stimulants', 'Sugar Crops', 'Sugar & Sweeteners',\n",
       "       'Treenuts', 'Vegetal Products', 'Vegetable Oils', 'Vegetables',\n",
       "       'Obesity', 'Undernourished', 'Confirmed', 'Deaths', 'Recovered',\n",
       "       'Active', 'Population', 'Unit (all except Population)'],\n",
       "      dtype='object')"
      ]
     },
     "execution_count": 60,
     "metadata": {},
     "output_type": "execute_result"
    }
   ],
   "source": [
    "fat_quantity.columns"
   ]
  },
  {
   "cell_type": "code",
   "execution_count": 61,
   "metadata": {},
   "outputs": [
    {
     "data": {
      "text/plain": [
       "170"
      ]
     },
     "execution_count": 61,
     "metadata": {},
     "output_type": "execute_result"
    }
   ],
   "source": [
    "len(fat_quantity.index)"
   ]
  },
  {
   "cell_type": "markdown",
   "metadata": {},
   "source": [
    "Let's create a function to **check missing data** and unveil **the percentage of data missing** for each dataframe"
   ]
  },
  {
   "cell_type": "code",
   "execution_count": 62,
   "metadata": {},
   "outputs": [
    {
     "data": {
      "text/plain": [
       "Country                         0.000000\n",
       "Alcoholic Beverages             0.000000\n",
       "Animal Products                 0.000000\n",
       "Animal fats                     0.000000\n",
       "Aquatic Products, Other         0.000000\n",
       "Cereals - Excluding Beer        0.000000\n",
       "Eggs                            0.000000\n",
       "Fish, Seafood                   0.000000\n",
       "Fruits - Excluding Wine         0.000000\n",
       "Meat                            0.000000\n",
       "Miscellaneous                   0.000000\n",
       "Milk - Excluding Butter         0.000000\n",
       "Offals                          0.000000\n",
       "Oilcrops                        0.000000\n",
       "Pulses                          0.000000\n",
       "Spices                          0.000000\n",
       "Starchy Roots                   0.000000\n",
       "Stimulants                      0.000000\n",
       "Sugar Crops                     0.000000\n",
       "Sugar & Sweeteners              0.000000\n",
       "Treenuts                        0.000000\n",
       "Vegetal Products                0.000000\n",
       "Vegetable Oils                  0.000000\n",
       "Vegetables                      0.000000\n",
       "Obesity                         1.764706\n",
       "Undernourished                  4.117647\n",
       "Confirmed                       3.529412\n",
       "Deaths                          3.529412\n",
       "Recovered                       3.529412\n",
       "Active                          4.705882\n",
       "Population                      0.000000\n",
       "Unit (all except Population)    0.000000\n",
       "dtype: float64"
      ]
     },
     "execution_count": 62,
     "metadata": {},
     "output_type": "execute_result"
    }
   ],
   "source": [
    "# On veut une fonction qui donne le pourcentage de NaN dans notre df\n",
    "def percentage_missing_data(df):\n",
    "    \"\"\"donne le pourcentage de NaN dans un dataframe\"\"\"\n",
    "    nb_nan=df.isna().sum()\n",
    "    percentage_nan=(nb_nan/len(fat_quantity.index))*100\n",
    "    return percentage_nan\n",
    "percentage_missing_data(fat_quantity)"
   ]
  },
  {
   "cell_type": "markdown",
   "metadata": {},
   "source": [
    "Delete the countries for which values are missing."
   ]
  },
  {
   "cell_type": "code",
   "execution_count": 63,
   "metadata": {},
   "outputs": [
    {
     "name": "stdout",
     "output_type": "stream",
     "text": [
      "<class 'pandas.core.frame.DataFrame'>\n",
      "Int64Index: 154 entries, 0 to 169\n",
      "Data columns (total 32 columns):\n",
      " #   Column                        Non-Null Count  Dtype  \n",
      "---  ------                        --------------  -----  \n",
      " 0   Country                       154 non-null    object \n",
      " 1   Alcoholic Beverages           154 non-null    float64\n",
      " 2   Animal Products               154 non-null    float64\n",
      " 3   Animal fats                   154 non-null    float64\n",
      " 4   Aquatic Products, Other       154 non-null    float64\n",
      " 5   Cereals - Excluding Beer      154 non-null    float64\n",
      " 6   Eggs                          154 non-null    float64\n",
      " 7   Fish, Seafood                 154 non-null    float64\n",
      " 8   Fruits - Excluding Wine       154 non-null    float64\n",
      " 9   Meat                          154 non-null    float64\n",
      " 10  Miscellaneous                 154 non-null    float64\n",
      " 11  Milk - Excluding Butter       154 non-null    float64\n",
      " 12  Offals                        154 non-null    float64\n",
      " 13  Oilcrops                      154 non-null    float64\n",
      " 14  Pulses                        154 non-null    float64\n",
      " 15  Spices                        154 non-null    float64\n",
      " 16  Starchy Roots                 154 non-null    float64\n",
      " 17  Stimulants                    154 non-null    float64\n",
      " 18  Sugar Crops                   154 non-null    float64\n",
      " 19  Sugar & Sweeteners            154 non-null    float64\n",
      " 20  Treenuts                      154 non-null    float64\n",
      " 21  Vegetal Products              154 non-null    float64\n",
      " 22  Vegetable Oils                154 non-null    float64\n",
      " 23  Vegetables                    154 non-null    float64\n",
      " 24  Obesity                       154 non-null    float64\n",
      " 25  Undernourished                154 non-null    object \n",
      " 26  Confirmed                     154 non-null    float64\n",
      " 27  Deaths                        154 non-null    float64\n",
      " 28  Recovered                     154 non-null    float64\n",
      " 29  Active                        154 non-null    float64\n",
      " 30  Population                    154 non-null    float64\n",
      " 31  Unit (all except Population)  154 non-null    object \n",
      "dtypes: float64(29), object(3)\n",
      "memory usage: 39.7+ KB\n"
     ]
    }
   ],
   "source": [
    "fat_quantity.dropna(axis=0,how='any',inplace=True)\n",
    "fat_quantity.info()"
   ]
  },
  {
   "cell_type": "markdown",
   "metadata": {},
   "source": [
    "Look at the different data types for each variable."
   ]
  },
  {
   "cell_type": "code",
   "execution_count": 64,
   "metadata": {},
   "outputs": [
    {
     "name": "stdout",
     "output_type": "stream",
     "text": [
      "<class 'pandas.core.frame.DataFrame'>\n",
      "Int64Index: 154 entries, 0 to 169\n",
      "Data columns (total 32 columns):\n",
      " #   Column                        Non-Null Count  Dtype  \n",
      "---  ------                        --------------  -----  \n",
      " 0   Country                       154 non-null    object \n",
      " 1   Alcoholic Beverages           154 non-null    float64\n",
      " 2   Animal Products               154 non-null    float64\n",
      " 3   Animal fats                   154 non-null    float64\n",
      " 4   Aquatic Products, Other       154 non-null    float64\n",
      " 5   Cereals - Excluding Beer      154 non-null    float64\n",
      " 6   Eggs                          154 non-null    float64\n",
      " 7   Fish, Seafood                 154 non-null    float64\n",
      " 8   Fruits - Excluding Wine       154 non-null    float64\n",
      " 9   Meat                          154 non-null    float64\n",
      " 10  Miscellaneous                 154 non-null    float64\n",
      " 11  Milk - Excluding Butter       154 non-null    float64\n",
      " 12  Offals                        154 non-null    float64\n",
      " 13  Oilcrops                      154 non-null    float64\n",
      " 14  Pulses                        154 non-null    float64\n",
      " 15  Spices                        154 non-null    float64\n",
      " 16  Starchy Roots                 154 non-null    float64\n",
      " 17  Stimulants                    154 non-null    float64\n",
      " 18  Sugar Crops                   154 non-null    float64\n",
      " 19  Sugar & Sweeteners            154 non-null    float64\n",
      " 20  Treenuts                      154 non-null    float64\n",
      " 21  Vegetal Products              154 non-null    float64\n",
      " 22  Vegetable Oils                154 non-null    float64\n",
      " 23  Vegetables                    154 non-null    float64\n",
      " 24  Obesity                       154 non-null    float64\n",
      " 25  Undernourished                154 non-null    object \n",
      " 26  Confirmed                     154 non-null    float64\n",
      " 27  Deaths                        154 non-null    float64\n",
      " 28  Recovered                     154 non-null    float64\n",
      " 29  Active                        154 non-null    float64\n",
      " 30  Population                    154 non-null    float64\n",
      " 31  Unit (all except Population)  154 non-null    object \n",
      "dtypes: float64(29), object(3)\n",
      "memory usage: 39.7+ KB\n"
     ]
    }
   ],
   "source": [
    "fat_quantity.info()"
   ]
  },
  {
   "cell_type": "markdown",
   "metadata": {},
   "source": [
    "Explore the variables that are not of float type and see of you can convert them in to float type."
   ]
  },
  {
   "cell_type": "code",
   "execution_count": 65,
   "metadata": {},
   "outputs": [
    {
     "data": {
      "text/plain": [
       "0                             Afghanistan\n",
       "1                                 Albania\n",
       "2                                 Algeria\n",
       "3                                  Angola\n",
       "5                               Argentina\n",
       "                      ...                \n",
       "165    Venezuela (Bolivarian Republic of)\n",
       "166                               Vietnam\n",
       "167                                 Yemen\n",
       "168                                Zambia\n",
       "169                              Zimbabwe\n",
       "Name: Country, Length: 154, dtype: object"
      ]
     },
     "execution_count": 65,
     "metadata": {},
     "output_type": "execute_result"
    }
   ],
   "source": [
    "fat_quantity.Country # ne peut pas être converti en float car ce sont des strings"
   ]
  },
  {
   "cell_type": "code",
   "execution_count": 66,
   "metadata": {},
   "outputs": [],
   "source": [
    "fat_quantity.Undernourished.value_counts() # on a des float mais certaines valeurs sont de \"<2.5\". On peut leur donner\n",
    "# une valeur précise (inventée) pour qu'on ait plus que des floats dans la colonne.\n",
    "fat_quantity.replace(to_replace='<2.5', value=2,inplace=True)"
   ]
  },
  {
   "cell_type": "code",
   "execution_count": 67,
   "metadata": {},
   "outputs": [
    {
     "data": {
      "text/plain": [
       "0      29.799999\n",
       "1       6.200000\n",
       "2       3.900000\n",
       "3      25.000000\n",
       "5       4.600000\n",
       "         ...    \n",
       "165    21.200001\n",
       "166     9.300000\n",
       "167    38.900002\n",
       "168    46.700001\n",
       "169    51.299999\n",
       "Name: Undernourished, Length: 154, dtype: float32"
      ]
     },
     "execution_count": 67,
     "metadata": {},
     "output_type": "execute_result"
    }
   ],
   "source": [
    "fat_quantity.Undernourished.value_counts() # OK ca a marché. Maintenant, on convertit la colonne en float\n",
    "fat_quantity.Undernourished= pd.to_numeric(fat_quantity.Undernourished, downcast=\"float\") # OK : dtype = float\n",
    "fat_quantity.Undernourished"
   ]
  },
  {
   "cell_type": "code",
   "execution_count": 68,
   "metadata": {},
   "outputs": [],
   "source": [
    "fat_quantity[\"Unit (all except Population)\"].value_counts() # cette colonne n'est pas très utile, on peut la supprimer\n",
    "fat_quantity.drop(labels=\"Unit (all except Population)\",axis=1,inplace=True)"
   ]
  },
  {
   "cell_type": "code",
   "execution_count": 69,
   "metadata": {},
   "outputs": [
    {
     "name": "stdout",
     "output_type": "stream",
     "text": [
      "<class 'pandas.core.frame.DataFrame'>\n",
      "Int64Index: 154 entries, 0 to 169\n",
      "Data columns (total 31 columns):\n",
      " #   Column                    Non-Null Count  Dtype  \n",
      "---  ------                    --------------  -----  \n",
      " 0   Country                   154 non-null    object \n",
      " 1   Alcoholic Beverages       154 non-null    float64\n",
      " 2   Animal Products           154 non-null    float64\n",
      " 3   Animal fats               154 non-null    float64\n",
      " 4   Aquatic Products, Other   154 non-null    float64\n",
      " 5   Cereals - Excluding Beer  154 non-null    float64\n",
      " 6   Eggs                      154 non-null    float64\n",
      " 7   Fish, Seafood             154 non-null    float64\n",
      " 8   Fruits - Excluding Wine   154 non-null    float64\n",
      " 9   Meat                      154 non-null    float64\n",
      " 10  Miscellaneous             154 non-null    float64\n",
      " 11  Milk - Excluding Butter   154 non-null    float64\n",
      " 12  Offals                    154 non-null    float64\n",
      " 13  Oilcrops                  154 non-null    float64\n",
      " 14  Pulses                    154 non-null    float64\n",
      " 15  Spices                    154 non-null    float64\n",
      " 16  Starchy Roots             154 non-null    float64\n",
      " 17  Stimulants                154 non-null    float64\n",
      " 18  Sugar Crops               154 non-null    float64\n",
      " 19  Sugar & Sweeteners        154 non-null    float64\n",
      " 20  Treenuts                  154 non-null    float64\n",
      " 21  Vegetal Products          154 non-null    float64\n",
      " 22  Vegetable Oils            154 non-null    float64\n",
      " 23  Vegetables                154 non-null    float64\n",
      " 24  Obesity                   154 non-null    float64\n",
      " 25  Undernourished            154 non-null    float32\n",
      " 26  Confirmed                 154 non-null    float64\n",
      " 27  Deaths                    154 non-null    float64\n",
      " 28  Recovered                 154 non-null    float64\n",
      " 29  Active                    154 non-null    float64\n",
      " 30  Population                154 non-null    float64\n",
      "dtypes: float32(1), float64(29), object(1)\n",
      "memory usage: 37.9+ KB\n"
     ]
    }
   ],
   "source": [
    "fat_quantity.info() # on vérifie que tout est OK"
   ]
  },
  {
   "cell_type": "markdown",
   "metadata": {},
   "source": [
    "# Clustering"
   ]
  },
  {
   "cell_type": "markdown",
   "metadata": {},
   "source": [
    "## Data preparation"
   ]
  },
  {
   "cell_type": "markdown",
   "metadata": {},
   "source": [
    "Scale the dataset"
   ]
  },
  {
   "cell_type": "code",
   "execution_count": 71,
   "metadata": {},
   "outputs": [],
   "source": [
    "# On veut standardiser toutes les données numériques\n",
    "\n",
    "# on fait une liste de toutes les variables numériques -> tout sauf Country (on peut récupérer la sortie de df.columns)\n",
    "continuous_features=['Alcoholic Beverages', 'Animal Products', 'Animal fats',\n",
    "                   'Aquatic Products, Other', 'Cereals - Excluding Beer', 'Eggs',\n",
    "                   'Fish, Seafood', 'Fruits - Excluding Wine', 'Meat', 'Miscellaneous',\n",
    "                   'Milk - Excluding Butter', 'Offals', 'Oilcrops', 'Pulses', 'Spices',\n",
    "                   'Starchy Roots', 'Stimulants', 'Sugar Crops', 'Sugar & Sweeteners',\n",
    "                   'Treenuts', 'Vegetal Products', 'Vegetable Oils', 'Vegetables',\n",
    "                   'Obesity', 'Undernourished', 'Confirmed', 'Deaths', 'Recovered',\n",
    "                   'Active', 'Population']\n",
    "\n",
    "# on importe les modules et on fait la transformation via des pipelines\n",
    "from sklearn.pipeline import make_pipeline\n",
    "from sklearn.compose import make_column_transformer\n",
    "from sklearn.preprocessing import StandardScaler\n",
    "\n",
    "full_pipeline = make_column_transformer((make_pipeline(StandardScaler()), continuous_features),remainder='passthrough')\n",
    "# on met l'argument remainder='passthrough' pour lui dire de pas drop le reste des colonnes du df sur lesquelles on n'a\n",
    "# pas appliqué de transformation.\n",
    "\n",
    "fat_quantity_scaled = full_pipeline.fit_transform(fat_quantity)"
   ]
  },
  {
   "cell_type": "code",
   "execution_count": 73,
   "metadata": {},
   "outputs": [
    {
     "data": {
      "text/plain": [
       "array([[-0.11401464477494569, 0.15851008135610084, 0.6169246385343449,\n",
       "        ..., -0.4659499241034403, -0.05531328228136886, 'Afghanistan'],\n",
       "       [-0.11401464477494569, 1.4533108173389555, -0.2206214437217168,\n",
       "        ..., 0.44241554435349867, -0.2761922033625789, 'Albania'],\n",
       "       [-0.11401464477494569, -0.7440824455890636, -0.9730156142925407,\n",
       "        ..., -0.4163124320632599, -0.022086580631330364, 'Algeria'],\n",
       "       ...,\n",
       "       [-0.11401464477494569, -0.9787100119936012, -0.6398423385227063,\n",
       "        ..., -0.4903423478619119, -0.11101957044100237, 'Yemen'],\n",
       "       [7.701854540132673, -1.346085741301569, -0.7598074090526099, ...,\n",
       "        -0.4873321040005811, -0.1810471851545298, 'Zambia'],\n",
       "       [-0.11401464477494569, -1.248717925713109, -0.3588290871968098,\n",
       "        ..., -0.4792945136122503, -0.20259649746062403, 'Zimbabwe']],\n",
       "      dtype=object)"
      ]
     },
     "execution_count": 73,
     "metadata": {},
     "output_type": "execute_result"
    }
   ],
   "source": [
    "fat_quantity_scaled"
   ]
  },
  {
   "cell_type": "code",
   "execution_count": 48,
   "metadata": {},
   "outputs": [
    {
     "data": {
      "text/plain": [
       "(154, 31)"
      ]
     },
     "execution_count": 48,
     "metadata": {},
     "output_type": "execute_result"
    }
   ],
   "source": [
    "# on vérifie que les données ont bien été transformées\n",
    "fat_quantity_scaled.shape # les colonnes sont toutes présentes"
   ]
  },
  {
   "cell_type": "code",
   "execution_count": 74,
   "metadata": {},
   "outputs": [],
   "source": [
    "continuous_features.append('Country')"
   ]
  },
  {
   "cell_type": "code",
   "execution_count": 75,
   "metadata": {},
   "outputs": [
    {
     "data": {
      "text/html": [
       "<div>\n",
       "<style scoped>\n",
       "    .dataframe tbody tr th:only-of-type {\n",
       "        vertical-align: middle;\n",
       "    }\n",
       "\n",
       "    .dataframe tbody tr th {\n",
       "        vertical-align: top;\n",
       "    }\n",
       "\n",
       "    .dataframe thead th {\n",
       "        text-align: right;\n",
       "    }\n",
       "</style>\n",
       "<table border=\"1\" class=\"dataframe\">\n",
       "  <thead>\n",
       "    <tr style=\"text-align: right;\">\n",
       "      <th></th>\n",
       "      <th>Alcoholic Beverages</th>\n",
       "      <th>Animal Products</th>\n",
       "      <th>Animal fats</th>\n",
       "      <th>Aquatic Products, Other</th>\n",
       "      <th>Cereals - Excluding Beer</th>\n",
       "      <th>Eggs</th>\n",
       "      <th>Fish, Seafood</th>\n",
       "      <th>Fruits - Excluding Wine</th>\n",
       "      <th>Meat</th>\n",
       "      <th>Miscellaneous</th>\n",
       "      <th>...</th>\n",
       "      <th>Vegetable Oils</th>\n",
       "      <th>Vegetables</th>\n",
       "      <th>Obesity</th>\n",
       "      <th>Undernourished</th>\n",
       "      <th>Confirmed</th>\n",
       "      <th>Deaths</th>\n",
       "      <th>Recovered</th>\n",
       "      <th>Active</th>\n",
       "      <th>Population</th>\n",
       "      <th>Country</th>\n",
       "    </tr>\n",
       "  </thead>\n",
       "  <tbody>\n",
       "    <tr>\n",
       "      <th>0</th>\n",
       "      <td>-0.114015</td>\n",
       "      <td>0.15851</td>\n",
       "      <td>0.616925</td>\n",
       "      <td>-0.117474</td>\n",
       "      <td>1.10089</td>\n",
       "      <td>-0.396178</td>\n",
       "      <td>-0.854818</td>\n",
       "      <td>-0.131477</td>\n",
       "      <td>-0.664272</td>\n",
       "      <td>-0.527002</td>\n",
       "      <td>...</td>\n",
       "      <td>-0.256098</td>\n",
       "      <td>0.256444</td>\n",
       "      <td>-1.47013</td>\n",
       "      <td>1.57225</td>\n",
       "      <td>-0.784373</td>\n",
       "      <td>-0.625624</td>\n",
       "      <td>-0.685271</td>\n",
       "      <td>-0.46595</td>\n",
       "      <td>-0.0553133</td>\n",
       "      <td>Afghanistan</td>\n",
       "    </tr>\n",
       "    <tr>\n",
       "      <th>1</th>\n",
       "      <td>-0.114015</td>\n",
       "      <td>1.45331</td>\n",
       "      <td>-0.220621</td>\n",
       "      <td>-0.117474</td>\n",
       "      <td>-0.55504</td>\n",
       "      <td>1.05839</td>\n",
       "      <td>-0.734257</td>\n",
       "      <td>0.122943</td>\n",
       "      <td>-0.0747985</td>\n",
       "      <td>-0.516304</td>\n",
       "      <td>...</td>\n",
       "      <td>-1.40851</td>\n",
       "      <td>1.67971</td>\n",
       "      <td>0.405822</td>\n",
       "      <td>-0.420978</td>\n",
       "      <td>0.236162</td>\n",
       "      <td>0.296928</td>\n",
       "      <td>-0.0340016</td>\n",
       "      <td>0.442416</td>\n",
       "      <td>-0.276192</td>\n",
       "      <td>Albania</td>\n",
       "    </tr>\n",
       "    <tr>\n",
       "      <th>2</th>\n",
       "      <td>-0.114015</td>\n",
       "      <td>-0.744082</td>\n",
       "      <td>-0.973016</td>\n",
       "      <td>-0.117474</td>\n",
       "      <td>-0.082496</td>\n",
       "      <td>0.409606</td>\n",
       "      <td>-0.673545</td>\n",
       "      <td>0.0472729</td>\n",
       "      <td>-1.16592</td>\n",
       "      <td>-0.105186</td>\n",
       "      <td>...</td>\n",
       "      <td>1.25483</td>\n",
       "      <td>1.01552</td>\n",
       "      <td>0.859001</td>\n",
       "      <td>-0.615233</td>\n",
       "      <td>-0.731317</td>\n",
       "      <td>-0.600903</td>\n",
       "      <td>-0.652549</td>\n",
       "      <td>-0.416312</td>\n",
       "      <td>-0.0220866</td>\n",
       "      <td>Algeria</td>\n",
       "    </tr>\n",
       "    <tr>\n",
       "      <th>3</th>\n",
       "      <td>-0.114015</td>\n",
       "      <td>-0.63328</td>\n",
       "      <td>-0.848871</td>\n",
       "      <td>-0.117474</td>\n",
       "      <td>0.643568</td>\n",
       "      <td>-1.20318</td>\n",
       "      <td>0.636349</td>\n",
       "      <td>-0.220267</td>\n",
       "      <td>0.439393</td>\n",
       "      <td>-0.305396</td>\n",
       "      <td>...</td>\n",
       "      <td>0.534938</td>\n",
       "      <td>-0.898797</td>\n",
       "      <td>-1.22773</td>\n",
       "      <td>1.16685</td>\n",
       "      <td>-0.832032</td>\n",
       "      <td>-0.743088</td>\n",
       "      <td>-0.744688</td>\n",
       "      <td>-0.46636</td>\n",
       "      <td>-0.0945194</td>\n",
       "      <td>Angola</td>\n",
       "    </tr>\n",
       "    <tr>\n",
       "      <th>4</th>\n",
       "      <td>-0.114015</td>\n",
       "      <td>1.24798</td>\n",
       "      <td>-0.253345</td>\n",
       "      <td>-0.117474</td>\n",
       "      <td>-0.96943</td>\n",
       "      <td>0.945835</td>\n",
       "      <td>-0.71064</td>\n",
       "      <td>-0.383906</td>\n",
       "      <td>2.29501</td>\n",
       "      <td>-0.776118</td>\n",
       "      <td>...</td>\n",
       "      <td>-0.22205</td>\n",
       "      <td>-0.582353</td>\n",
       "      <td>1.05924</td>\n",
       "      <td>-0.556112</td>\n",
       "      <td>1.23848</td>\n",
       "      <td>1.9368</td>\n",
       "      <td>1.70995</td>\n",
       "      <td>-0.185693</td>\n",
       "      <td>-0.015844</td>\n",
       "      <td>Argentina</td>\n",
       "    </tr>\n",
       "    <tr>\n",
       "      <th>...</th>\n",
       "      <td>...</td>\n",
       "      <td>...</td>\n",
       "      <td>...</td>\n",
       "      <td>...</td>\n",
       "      <td>...</td>\n",
       "      <td>...</td>\n",
       "      <td>...</td>\n",
       "      <td>...</td>\n",
       "      <td>...</td>\n",
       "      <td>...</td>\n",
       "      <td>...</td>\n",
       "      <td>...</td>\n",
       "      <td>...</td>\n",
       "      <td>...</td>\n",
       "      <td>...</td>\n",
       "      <td>...</td>\n",
       "      <td>...</td>\n",
       "      <td>...</td>\n",
       "      <td>...</td>\n",
       "      <td>...</td>\n",
       "      <td>...</td>\n",
       "    </tr>\n",
       "    <tr>\n",
       "      <th>149</th>\n",
       "      <td>-0.114015</td>\n",
       "      <td>-0.505556</td>\n",
       "      <td>-0.563946</td>\n",
       "      <td>-0.117474</td>\n",
       "      <td>-0.594724</td>\n",
       "      <td>-0.442292</td>\n",
       "      <td>-0.274656</td>\n",
       "      <td>0.500357</td>\n",
       "      <td>-0.445786</td>\n",
       "      <td>-0.658437</td>\n",
       "      <td>...</td>\n",
       "      <td>1.57246</td>\n",
       "      <td>-0.595558</td>\n",
       "      <td>0.711454</td>\n",
       "      <td>0.845905</td>\n",
       "      <td>-0.624253</td>\n",
       "      <td>-0.676841</td>\n",
       "      <td>-0.465938</td>\n",
       "      <td>-0.474359</td>\n",
       "      <td>-0.118248</td>\n",
       "      <td>Venezuela (Bolivarian Republic of)</td>\n",
       "    </tr>\n",
       "    <tr>\n",
       "      <th>150</th>\n",
       "      <td>-0.114015</td>\n",
       "      <td>1.6093</td>\n",
       "      <td>-0.0992232</td>\n",
       "      <td>-0.117474</td>\n",
       "      <td>-0.233206</td>\n",
       "      <td>-0.247521</td>\n",
       "      <td>0.319525</td>\n",
       "      <td>-0.151039</td>\n",
       "      <td>3.9069</td>\n",
       "      <td>-0.678305</td>\n",
       "      <td>...</td>\n",
       "      <td>-1.94117</td>\n",
       "      <td>1.61613</td>\n",
       "      <td>-1.72307</td>\n",
       "      <td>-0.159156</td>\n",
       "      <td>-0.862868</td>\n",
       "      <td>-0.776323</td>\n",
       "      <td>-0.766623</td>\n",
       "      <td>-0.490557</td>\n",
       "      <td>0.295259</td>\n",
       "      <td>Vietnam</td>\n",
       "    </tr>\n",
       "    <tr>\n",
       "      <th>151</th>\n",
       "      <td>-0.114015</td>\n",
       "      <td>-0.97871</td>\n",
       "      <td>-0.639842</td>\n",
       "      <td>-0.117474</td>\n",
       "      <td>2.17926</td>\n",
       "      <td>-0.600203</td>\n",
       "      <td>-0.475233</td>\n",
       "      <td>-0.328501</td>\n",
       "      <td>-0.241798</td>\n",
       "      <td>-0.384868</td>\n",
       "      <td>...</td>\n",
       "      <td>0.706562</td>\n",
       "      <td>-0.685552</td>\n",
       "      <td>-0.45838</td>\n",
       "      <td>2.34083</td>\n",
       "      <td>-0.859359</td>\n",
       "      <td>-0.716441</td>\n",
       "      <td>-0.763816</td>\n",
       "      <td>-0.490342</td>\n",
       "      <td>-0.11102</td>\n",
       "      <td>Yemen</td>\n",
       "    </tr>\n",
       "    <tr>\n",
       "      <th>152</th>\n",
       "      <td>7.70185</td>\n",
       "      <td>-1.34609</td>\n",
       "      <td>-0.759807</td>\n",
       "      <td>-0.117474</td>\n",
       "      <td>3.04257</td>\n",
       "      <td>-0.486131</td>\n",
       "      <td>0.195836</td>\n",
       "      <td>-0.471525</td>\n",
       "      <td>-0.939694</td>\n",
       "      <td>-0.433775</td>\n",
       "      <td>...</td>\n",
       "      <td>-0.520473</td>\n",
       "      <td>-0.734461</td>\n",
       "      <td>-1.25935</td>\n",
       "      <td>2.9996</td>\n",
       "      <td>-0.800547</td>\n",
       "      <td>-0.717506</td>\n",
       "      <td>-0.688264</td>\n",
       "      <td>-0.487332</td>\n",
       "      <td>-0.181047</td>\n",
       "      <td>Zambia</td>\n",
       "    </tr>\n",
       "    <tr>\n",
       "      <th>153</th>\n",
       "      <td>-0.114015</td>\n",
       "      <td>-1.24872</td>\n",
       "      <td>-0.358829</td>\n",
       "      <td>-0.117474</td>\n",
       "      <td>1.64347</td>\n",
       "      <td>-0.878102</td>\n",
       "      <td>-0.625341</td>\n",
       "      <td>-0.556917</td>\n",
       "      <td>-1.0148</td>\n",
       "      <td>-0.508662</td>\n",
       "      <td>...</td>\n",
       "      <td>1.19294</td>\n",
       "      <td>-1.11498</td>\n",
       "      <td>-0.648083</td>\n",
       "      <td>3.38812</td>\n",
       "      <td>-0.815298</td>\n",
       "      <td>-0.715025</td>\n",
       "      <td>-0.713781</td>\n",
       "      <td>-0.479295</td>\n",
       "      <td>-0.202596</td>\n",
       "      <td>Zimbabwe</td>\n",
       "    </tr>\n",
       "  </tbody>\n",
       "</table>\n",
       "<p>154 rows × 31 columns</p>\n",
       "</div>"
      ],
      "text/plain": [
       "    Alcoholic Beverages Animal Products Animal fats Aquatic Products, Other  \\\n",
       "0             -0.114015         0.15851    0.616925               -0.117474   \n",
       "1             -0.114015         1.45331   -0.220621               -0.117474   \n",
       "2             -0.114015       -0.744082   -0.973016               -0.117474   \n",
       "3             -0.114015        -0.63328   -0.848871               -0.117474   \n",
       "4             -0.114015         1.24798   -0.253345               -0.117474   \n",
       "..                  ...             ...         ...                     ...   \n",
       "149           -0.114015       -0.505556   -0.563946               -0.117474   \n",
       "150           -0.114015          1.6093  -0.0992232               -0.117474   \n",
       "151           -0.114015        -0.97871   -0.639842               -0.117474   \n",
       "152             7.70185        -1.34609   -0.759807               -0.117474   \n",
       "153           -0.114015        -1.24872   -0.358829               -0.117474   \n",
       "\n",
       "    Cereals - Excluding Beer      Eggs Fish, Seafood Fruits - Excluding Wine  \\\n",
       "0                    1.10089 -0.396178     -0.854818               -0.131477   \n",
       "1                   -0.55504   1.05839     -0.734257                0.122943   \n",
       "2                  -0.082496  0.409606     -0.673545               0.0472729   \n",
       "3                   0.643568  -1.20318      0.636349               -0.220267   \n",
       "4                   -0.96943  0.945835      -0.71064               -0.383906   \n",
       "..                       ...       ...           ...                     ...   \n",
       "149                -0.594724 -0.442292     -0.274656                0.500357   \n",
       "150                -0.233206 -0.247521      0.319525               -0.151039   \n",
       "151                  2.17926 -0.600203     -0.475233               -0.328501   \n",
       "152                  3.04257 -0.486131      0.195836               -0.471525   \n",
       "153                  1.64347 -0.878102     -0.625341               -0.556917   \n",
       "\n",
       "          Meat Miscellaneous  ... Vegetable Oils Vegetables   Obesity  \\\n",
       "0    -0.664272     -0.527002  ...      -0.256098   0.256444  -1.47013   \n",
       "1   -0.0747985     -0.516304  ...       -1.40851    1.67971  0.405822   \n",
       "2     -1.16592     -0.105186  ...        1.25483    1.01552  0.859001   \n",
       "3     0.439393     -0.305396  ...       0.534938  -0.898797  -1.22773   \n",
       "4      2.29501     -0.776118  ...       -0.22205  -0.582353   1.05924   \n",
       "..         ...           ...  ...            ...        ...       ...   \n",
       "149  -0.445786     -0.658437  ...        1.57246  -0.595558  0.711454   \n",
       "150     3.9069     -0.678305  ...       -1.94117    1.61613  -1.72307   \n",
       "151  -0.241798     -0.384868  ...       0.706562  -0.685552  -0.45838   \n",
       "152  -0.939694     -0.433775  ...      -0.520473  -0.734461  -1.25935   \n",
       "153    -1.0148     -0.508662  ...        1.19294   -1.11498 -0.648083   \n",
       "\n",
       "    Undernourished Confirmed    Deaths  Recovered    Active Population  \\\n",
       "0          1.57225 -0.784373 -0.625624  -0.685271  -0.46595 -0.0553133   \n",
       "1        -0.420978  0.236162  0.296928 -0.0340016  0.442416  -0.276192   \n",
       "2        -0.615233 -0.731317 -0.600903  -0.652549 -0.416312 -0.0220866   \n",
       "3          1.16685 -0.832032 -0.743088  -0.744688  -0.46636 -0.0945194   \n",
       "4        -0.556112   1.23848    1.9368    1.70995 -0.185693  -0.015844   \n",
       "..             ...       ...       ...        ...       ...        ...   \n",
       "149       0.845905 -0.624253 -0.676841  -0.465938 -0.474359  -0.118248   \n",
       "150      -0.159156 -0.862868 -0.776323  -0.766623 -0.490557   0.295259   \n",
       "151        2.34083 -0.859359 -0.716441  -0.763816 -0.490342   -0.11102   \n",
       "152         2.9996 -0.800547 -0.717506  -0.688264 -0.487332  -0.181047   \n",
       "153        3.38812 -0.815298 -0.715025  -0.713781 -0.479295  -0.202596   \n",
       "\n",
       "                                Country  \n",
       "0                           Afghanistan  \n",
       "1                               Albania  \n",
       "2                               Algeria  \n",
       "3                                Angola  \n",
       "4                             Argentina  \n",
       "..                                  ...  \n",
       "149  Venezuela (Bolivarian Republic of)  \n",
       "150                             Vietnam  \n",
       "151                               Yemen  \n",
       "152                              Zambia  \n",
       "153                            Zimbabwe  \n",
       "\n",
       "[154 rows x 31 columns]"
      ]
     },
     "execution_count": 75,
     "metadata": {},
     "output_type": "execute_result"
    }
   ],
   "source": [
    "fat_quantity_scaled=pd.DataFrame(fat_quantity_scaled,columns=continuous_features) # les valeurs ont été transformées -> OK\n",
    "fat_quantity_scaled"
   ]
  },
  {
   "cell_type": "markdown",
   "metadata": {},
   "source": [
    "## Plot some data"
   ]
  },
  {
   "cell_type": "markdown",
   "metadata": {},
   "source": [
    "Now, we want to visualize some variables for each state. To do so, we use plotly express to have the possibility to hover on a scatter plot and see the statistics per country clearer as explained here."
   ]
  },
  {
   "cell_type": "markdown",
   "metadata": {},
   "source": [
    "https://plotly.com/python/hover-text-and-formatting/#:~:text=Basic%20Charts%20tutorials.-,Hover%20Labels,having%20a%20hover%20label%20appear."
   ]
  },
  {
   "cell_type": "markdown",
   "metadata": {},
   "source": [
    "Plot the \"Obesity\" vs \"Deaths\" statistics"
   ]
  },
  {
   "cell_type": "code",
   "execution_count": 76,
   "metadata": {},
   "outputs": [],
   "source": [
    "# installer plotly sur anaconda prompt au préalable avec le code : conda install -c plotly plotly=4.14.3\n",
    "# importer le module sur le jupyter\n",
    "import plotly.express as px"
   ]
  },
  {
   "cell_type": "code",
   "execution_count": 77,
   "metadata": {},
   "outputs": [
    {
     "data": {
      "application/vnd.plotly.v1+json": {
       "config": {
        "plotlyServerURL": "https://plot.ly"
       },
       "data": [
        {
         "hovertemplate": "<b>%{hovertext}</b><br><br>Obesity=%{x}<br>Deaths=%{y}<extra></extra>",
         "hovertext": [
          "Afghanistan",
          "Albania",
          "Algeria",
          "Angola",
          "Argentina",
          "Armenia",
          "Australia",
          "Austria",
          "Azerbaijan",
          "Bangladesh",
          "Barbados",
          "Belarus",
          "Belgium",
          "Belize",
          "Benin",
          "Bolivia",
          "Bosnia and Herzegovina",
          "Botswana",
          "Brazil",
          "Bulgaria",
          "Burkina Faso",
          "Cabo Verde",
          "Cambodia",
          "Cameroon",
          "Central African Republic",
          "Chad",
          "China",
          "Colombia",
          "Congo",
          "Costa Rica",
          "Cote d'Ivoire",
          "Croatia",
          "Cuba",
          "Cyprus",
          "Czechia",
          "Denmark",
          "Djibouti",
          "Dominica",
          "Dominican Republic",
          "Ecuador",
          "Egypt",
          "El Salvador",
          "Estonia",
          "Eswatini",
          "Ethiopia",
          "Fiji",
          "Finland",
          "France",
          "Gabon",
          "Gambia",
          "Georgia",
          "Germany",
          "Ghana",
          "Greece",
          "Guatemala",
          "Guinea",
          "Guinea-Bissau",
          "Guyana",
          "Haiti",
          "Honduras",
          "Hungary",
          "Iceland",
          "India",
          "Indonesia",
          "Iran (Islamic Republic of)",
          "Iraq",
          "Ireland",
          "Israel",
          "Italy",
          "Jamaica",
          "Japan",
          "Jordan",
          "Kazakhstan",
          "Kenya",
          "Korea, South",
          "Kuwait",
          "Kyrgyzstan",
          "Lao People's Democratic Republic",
          "Latvia",
          "Lebanon",
          "Lesotho",
          "Liberia",
          "Lithuania",
          "Luxembourg",
          "Madagascar",
          "Malawi",
          "Malaysia",
          "Maldives",
          "Mali",
          "Malta",
          "Mauritania",
          "Mauritius",
          "Mexico",
          "Mongolia",
          "Montenegro",
          "Morocco",
          "Mozambique",
          "Namibia",
          "Nepal",
          "Netherlands",
          "New Zealand",
          "Nicaragua",
          "Niger",
          "Nigeria",
          "North Macedonia",
          "Norway",
          "Oman",
          "Pakistan",
          "Panama",
          "Paraguay",
          "Peru",
          "Philippines",
          "Poland",
          "Portugal",
          "Romania",
          "Russian Federation",
          "Rwanda",
          "Saint Vincent and the Grenadines",
          "Samoa",
          "Sao Tome and Principe",
          "Saudi Arabia",
          "Senegal",
          "Serbia",
          "Sierra Leone",
          "Slovakia",
          "Slovenia",
          "Solomon Islands",
          "South Africa",
          "Spain",
          "Sri Lanka",
          "Sudan",
          "Suriname",
          "Sweden",
          "Switzerland",
          "Thailand",
          "Timor-Leste",
          "Togo",
          "Trinidad and Tobago",
          "Tunisia",
          "Turkey",
          "Uganda",
          "Ukraine",
          "United Arab Emirates",
          "United Kingdom",
          "United Republic of Tanzania",
          "United States of America",
          "Uruguay",
          "Uzbekistan",
          "Vanuatu",
          "Venezuela (Bolivarian Republic of)",
          "Vietnam",
          "Yemen",
          "Zambia",
          "Zimbabwe"
         ],
         "legendgroup": "",
         "marker": {
          "color": "#636efa",
          "symbol": "circle"
         },
         "mode": "markers",
         "name": "",
         "orientation": "v",
         "showlegend": false,
         "type": "scatter",
         "x": [
          -1.4701284334812854,
          0.405821693070665,
          0.8590006562264734,
          -1.2277303834212019,
          1.0592425236674117,
          0.25827505390365746,
          1.2594843911083502,
          0.36366551045151985,
          0.1528845973557951,
          -1.5860579356839342,
          0.669297834440321,
          0.8590006562264734,
          0.6376806974759622,
          0.41636073872545104,
          -1.0801837442541948,
          0.0264160494983603,
          0.10018936908186389,
          -0.24759913752608168,
          0.405821693070665,
          0.9433130214647629,
          -1.4701284334812854,
          -0.827246648539325,
          -1.575518890029148,
          -0.9431761507419736,
          -1.2804256116951331,
          -1.4385112965169267,
          -1.2488084747307746,
          0.3847436017610926,
          -1.0591056529446221,
          0.764149245333397,
          -0.9958713790159047,
          0.9116958845004045,
          0.8695397018812594,
          0.4374388300350238,
          1.0592425236674117,
          0.3004312365228026,
          -0.6586219180627452,
          1.027625386703053,
          0.8906177931908318,
          0.08965032342707788,
          1.3332577106918542,
          0.44797787568980985,
          0.5639073778924586,
          -0.521614324550524,
          -1.5649798443743617,
          1.2173282084892054,
          0.679836880095107,
          0.500673103963741,
          -0.5321533702053102,
          -1.0274885159802636,
          0.5112121496185275,
          0.764149245333397,
          -0.9220980594324012,
          0.9433130214647629,
          0.03695509515314669,
          -1.2488084747307746,
          -1.0801837442541948,
          0.07911127777229149,
          0.21611887128451268,
          0.10018936908186389,
          1.0697815693221981,
          0.490134058308955,
          -1.5439017530647892,
          -1.2171913377664156,
          0.7430711540238246,
          0.9433130214647629,
          0.8906177931908318,
          0.8695397018812594,
          0.46905596699938223,
          0.6271416518211758,
          -1.4806674791360717,
          1.5756557607519373,
          0.3004312365228026,
          -1.3120427486594919,
          -1.4279722508621404,
          1.955061404324242,
          -0.32137245710958545,
          -1.4701284334812854,
          0.764149245333397,
          1.3543358020014264,
          -0.521614324550524,
          -1.0380275616350498,
          1.0487034780126254,
          0.6060635605116034,
          -1.4701284334812854,
          -1.4490503421717131,
          -0.33191150276437165,
          -1.1118008812185534,
          -1.1961132464568434,
          1.3227186650370677,
          -0.7534733289558212,
          -0.7323952376462488,
          1.0487034780126254,
          0.12126746039143667,
          0.679836880095107,
          0.753610199678611,
          -1.3120427486594919,
          -0.36352863972873045,
          -1.5439017530647892,
          0.490134058308955,
          1.42810912158493,
          0.3531264647967338,
          -1.4490503421717131,
          -1.1223399268733396,
          0.5744464235472446,
          0.6903759257498934,
          0.46905596699938223,
          -1.1223399268733396,
          0.42689978438023746,
          0.05803318646271909,
          0.06857223211750547,
          -1.3120427486594919,
          0.753610199678611,
          0.500673103963741,
          0.6376806974759622,
          0.764149245333397,
          -1.4385112965169267,
          0.5639073778924586,
          2.850880284981072,
          -0.827246648539325,
          1.7442804912285172,
          -1.1644961094924846,
          0.5322902409280998,
          -1.1539570638376984,
          0.41636073872545104,
          0.42689978438023746,
          0.21611887128451268,
          0.9011568388456181,
          0.9116958845004045,
          -1.3752770225882094,
          -1.1644961094924846,
          0.848461610571687,
          0.3847436017610926,
          0.28989219086801626,
          -0.8061685572297523,
          -1.6387531639578652,
          -1.1961132464568434,
          0.13180650604622268,
          0.932773975809977,
          1.449187212894503,
          -1.5122846161004304,
          0.8063054279525421,
          1.206789162834419,
          1.1646329802152742,
          -1.1961132464568434,
          1.9866785412886003,
          1.1013987062865565,
          -0.33191150276437165,
          0.5322902409280998,
          0.7114540170594658,
          -1.723065529196155,
          -0.45838005062180665,
          -1.2593475203855606,
          -0.6480828724079588
         ],
         "xaxis": "x",
         "y": [
          -0.6256236542429071,
          0.29692825867677397,
          -0.6009026761870524,
          -0.7430880182632713,
          1.9367968187686688,
          1.7636630825102604,
          -0.6716101990812853,
          0.7476460828575382,
          -0.19372768730456927,
          -0.6521331773656616,
          -0.7042199719394683,
          -0.36992278583532295,
          3.9277085702292824,
          0.6335423460775023,
          -0.7665991446005326,
          1.5505098665562727,
          2.3241660116009677,
          -0.7281968901418022,
          1.7988379895317193,
          1.7517693973496617,
          -0.7672211167840398,
          -0.18369748873222788,
          -0.7774143322488324,
          -0.727432034094874,
          -0.738271261300781,
          -0.7592772927978778,
          -0.7672412303222292,
          1.6014986004699334,
          -0.529418362632328,
          0.3593251598106649,
          -0.7621658567276495,
          1.2418942573307754,
          -0.7409696268275313,
          -0.5735374148005455,
          1.9135439485200991,
          -0.2883218062495649,
          -0.5921318472956748,
          -0.7774143322488324,
          -0.1017676485702797,
          1.6004305493107311,
          -0.5707168511347334,
          -0.2194499176393392,
          -0.43019480483085704,
          -0.4240393861900358,
          -0.7301732821793449,
          -0.7707157412383773,
          -0.5271979089883349,
          1.920915935779922,
          -0.6926716013303709,
          -0.6246964344250329,
          0.7081257950636164,
          0.037998959478995877,
          -0.7458333201589908,
          0.25665780465636695,
          -0.03904910504967047,
          -0.7582998814674061,
          -0.708891952384747,
          -0.18255902279687258,
          -0.71583170550078,
          0.13194248664332772,
          1.4133205248450984,
          -0.5490797517185336,
          -0.46938903308903457,
          -0.5680724120423233,
          1.092957732171299,
          0.17466142463311987,
          0.4978324418319262,
          0.20076602725013892,
          2.4582228722250052,
          -0.4857573457971725,
          -0.7171409987972908,
          0.18000683158056716,
          -0.3682495743247049,
          -0.6881051248268197,
          -0.7426413216153886,
          -0.1939814777001771,
          -0.18031529831475251,
          -0.7774143322488324,
          -0.22202999576894653,
          -0.2453744472748327,
          -0.715769782296408,
          -0.7281694907832797,
          0.10869849433106758,
          1.169416675346755,
          -0.7493456127325586,
          -0.7480791957882001,
          -0.739056566599384,
          -0.511154625984824,
          -0.7476284094149245,
          0.2229085919791429,
          -0.6302700569430398,
          -0.7536912589469832,
          1.9066717512323534,
          -0.7774143322488324,
          2.045040220838142,
          -0.22157735357442557,
          -0.7636448868758682,
          -0.5849082677279823,
          -0.6057360280107464,
          0.9695285017037746,
          -0.7623703740942107,
          -0.7037095200634479,
          -0.7672411361944241,
          -0.75998850698007,
          2.3202202614782856,
          -0.5584834379357113,
          0.15987105569743046,
          -0.6564601052154733,
          1.5922509465784025,
          0.037872980081978064,
          2.575819023701949,
          -0.5375964482872589,
          1.0184114345574384,
          0.8756790462876388,
          1.3272097838884223,
          0.18067541664985792,
          -0.7644391738740409,
          -0.7774143322488324,
          -0.7774143322488324,
          -0.5344787649363241,
          -0.25851162417280793,
          -0.7146850518833657,
          0.2492215278902722,
          -0.749199131302199,
          -0.11535512846191709,
          2.2292624171781936,
          -0.7774143322488324,
          0.402831838815279,
          2.247368152958955,
          -0.7563472222979126,
          -0.6846798870622436,
          -0.19706169356450262,
          1.3955912915294304,
          1.361566653053102,
          -0.7747080749012952,
          -0.7774143322488324,
          -0.7534906773391646,
          -0.5077874812334026,
          0.20491354273697904,
          -0.18085455353575905,
          -0.762718173330549,
          0.35694582999504265,
          -0.5877437757425257,
          2.104695343720694,
          -0.7763593159394213,
          1.9561056231507228,
          -0.6966745890018844,
          -0.7236719289924806,
          -0.7774143322488324,
          -0.676840758439212,
          -0.7763226058298494,
          -0.7164411184002955,
          -0.7175059586862236,
          -0.7150245488431046
         ],
         "yaxis": "y"
        }
       ],
       "layout": {
        "legend": {
         "tracegroupgap": 0
        },
        "template": {
         "data": {
          "bar": [
           {
            "error_x": {
             "color": "#2a3f5f"
            },
            "error_y": {
             "color": "#2a3f5f"
            },
            "marker": {
             "line": {
              "color": "#E5ECF6",
              "width": 0.5
             }
            },
            "type": "bar"
           }
          ],
          "barpolar": [
           {
            "marker": {
             "line": {
              "color": "#E5ECF6",
              "width": 0.5
             }
            },
            "type": "barpolar"
           }
          ],
          "carpet": [
           {
            "aaxis": {
             "endlinecolor": "#2a3f5f",
             "gridcolor": "white",
             "linecolor": "white",
             "minorgridcolor": "white",
             "startlinecolor": "#2a3f5f"
            },
            "baxis": {
             "endlinecolor": "#2a3f5f",
             "gridcolor": "white",
             "linecolor": "white",
             "minorgridcolor": "white",
             "startlinecolor": "#2a3f5f"
            },
            "type": "carpet"
           }
          ],
          "choropleth": [
           {
            "colorbar": {
             "outlinewidth": 0,
             "ticks": ""
            },
            "type": "choropleth"
           }
          ],
          "contour": [
           {
            "colorbar": {
             "outlinewidth": 0,
             "ticks": ""
            },
            "colorscale": [
             [
              0,
              "#0d0887"
             ],
             [
              0.1111111111111111,
              "#46039f"
             ],
             [
              0.2222222222222222,
              "#7201a8"
             ],
             [
              0.3333333333333333,
              "#9c179e"
             ],
             [
              0.4444444444444444,
              "#bd3786"
             ],
             [
              0.5555555555555556,
              "#d8576b"
             ],
             [
              0.6666666666666666,
              "#ed7953"
             ],
             [
              0.7777777777777778,
              "#fb9f3a"
             ],
             [
              0.8888888888888888,
              "#fdca26"
             ],
             [
              1,
              "#f0f921"
             ]
            ],
            "type": "contour"
           }
          ],
          "contourcarpet": [
           {
            "colorbar": {
             "outlinewidth": 0,
             "ticks": ""
            },
            "type": "contourcarpet"
           }
          ],
          "heatmap": [
           {
            "colorbar": {
             "outlinewidth": 0,
             "ticks": ""
            },
            "colorscale": [
             [
              0,
              "#0d0887"
             ],
             [
              0.1111111111111111,
              "#46039f"
             ],
             [
              0.2222222222222222,
              "#7201a8"
             ],
             [
              0.3333333333333333,
              "#9c179e"
             ],
             [
              0.4444444444444444,
              "#bd3786"
             ],
             [
              0.5555555555555556,
              "#d8576b"
             ],
             [
              0.6666666666666666,
              "#ed7953"
             ],
             [
              0.7777777777777778,
              "#fb9f3a"
             ],
             [
              0.8888888888888888,
              "#fdca26"
             ],
             [
              1,
              "#f0f921"
             ]
            ],
            "type": "heatmap"
           }
          ],
          "heatmapgl": [
           {
            "colorbar": {
             "outlinewidth": 0,
             "ticks": ""
            },
            "colorscale": [
             [
              0,
              "#0d0887"
             ],
             [
              0.1111111111111111,
              "#46039f"
             ],
             [
              0.2222222222222222,
              "#7201a8"
             ],
             [
              0.3333333333333333,
              "#9c179e"
             ],
             [
              0.4444444444444444,
              "#bd3786"
             ],
             [
              0.5555555555555556,
              "#d8576b"
             ],
             [
              0.6666666666666666,
              "#ed7953"
             ],
             [
              0.7777777777777778,
              "#fb9f3a"
             ],
             [
              0.8888888888888888,
              "#fdca26"
             ],
             [
              1,
              "#f0f921"
             ]
            ],
            "type": "heatmapgl"
           }
          ],
          "histogram": [
           {
            "marker": {
             "colorbar": {
              "outlinewidth": 0,
              "ticks": ""
             }
            },
            "type": "histogram"
           }
          ],
          "histogram2d": [
           {
            "colorbar": {
             "outlinewidth": 0,
             "ticks": ""
            },
            "colorscale": [
             [
              0,
              "#0d0887"
             ],
             [
              0.1111111111111111,
              "#46039f"
             ],
             [
              0.2222222222222222,
              "#7201a8"
             ],
             [
              0.3333333333333333,
              "#9c179e"
             ],
             [
              0.4444444444444444,
              "#bd3786"
             ],
             [
              0.5555555555555556,
              "#d8576b"
             ],
             [
              0.6666666666666666,
              "#ed7953"
             ],
             [
              0.7777777777777778,
              "#fb9f3a"
             ],
             [
              0.8888888888888888,
              "#fdca26"
             ],
             [
              1,
              "#f0f921"
             ]
            ],
            "type": "histogram2d"
           }
          ],
          "histogram2dcontour": [
           {
            "colorbar": {
             "outlinewidth": 0,
             "ticks": ""
            },
            "colorscale": [
             [
              0,
              "#0d0887"
             ],
             [
              0.1111111111111111,
              "#46039f"
             ],
             [
              0.2222222222222222,
              "#7201a8"
             ],
             [
              0.3333333333333333,
              "#9c179e"
             ],
             [
              0.4444444444444444,
              "#bd3786"
             ],
             [
              0.5555555555555556,
              "#d8576b"
             ],
             [
              0.6666666666666666,
              "#ed7953"
             ],
             [
              0.7777777777777778,
              "#fb9f3a"
             ],
             [
              0.8888888888888888,
              "#fdca26"
             ],
             [
              1,
              "#f0f921"
             ]
            ],
            "type": "histogram2dcontour"
           }
          ],
          "mesh3d": [
           {
            "colorbar": {
             "outlinewidth": 0,
             "ticks": ""
            },
            "type": "mesh3d"
           }
          ],
          "parcoords": [
           {
            "line": {
             "colorbar": {
              "outlinewidth": 0,
              "ticks": ""
             }
            },
            "type": "parcoords"
           }
          ],
          "pie": [
           {
            "automargin": true,
            "type": "pie"
           }
          ],
          "scatter": [
           {
            "marker": {
             "colorbar": {
              "outlinewidth": 0,
              "ticks": ""
             }
            },
            "type": "scatter"
           }
          ],
          "scatter3d": [
           {
            "line": {
             "colorbar": {
              "outlinewidth": 0,
              "ticks": ""
             }
            },
            "marker": {
             "colorbar": {
              "outlinewidth": 0,
              "ticks": ""
             }
            },
            "type": "scatter3d"
           }
          ],
          "scattercarpet": [
           {
            "marker": {
             "colorbar": {
              "outlinewidth": 0,
              "ticks": ""
             }
            },
            "type": "scattercarpet"
           }
          ],
          "scattergeo": [
           {
            "marker": {
             "colorbar": {
              "outlinewidth": 0,
              "ticks": ""
             }
            },
            "type": "scattergeo"
           }
          ],
          "scattergl": [
           {
            "marker": {
             "colorbar": {
              "outlinewidth": 0,
              "ticks": ""
             }
            },
            "type": "scattergl"
           }
          ],
          "scattermapbox": [
           {
            "marker": {
             "colorbar": {
              "outlinewidth": 0,
              "ticks": ""
             }
            },
            "type": "scattermapbox"
           }
          ],
          "scatterpolar": [
           {
            "marker": {
             "colorbar": {
              "outlinewidth": 0,
              "ticks": ""
             }
            },
            "type": "scatterpolar"
           }
          ],
          "scatterpolargl": [
           {
            "marker": {
             "colorbar": {
              "outlinewidth": 0,
              "ticks": ""
             }
            },
            "type": "scatterpolargl"
           }
          ],
          "scatterternary": [
           {
            "marker": {
             "colorbar": {
              "outlinewidth": 0,
              "ticks": ""
             }
            },
            "type": "scatterternary"
           }
          ],
          "surface": [
           {
            "colorbar": {
             "outlinewidth": 0,
             "ticks": ""
            },
            "colorscale": [
             [
              0,
              "#0d0887"
             ],
             [
              0.1111111111111111,
              "#46039f"
             ],
             [
              0.2222222222222222,
              "#7201a8"
             ],
             [
              0.3333333333333333,
              "#9c179e"
             ],
             [
              0.4444444444444444,
              "#bd3786"
             ],
             [
              0.5555555555555556,
              "#d8576b"
             ],
             [
              0.6666666666666666,
              "#ed7953"
             ],
             [
              0.7777777777777778,
              "#fb9f3a"
             ],
             [
              0.8888888888888888,
              "#fdca26"
             ],
             [
              1,
              "#f0f921"
             ]
            ],
            "type": "surface"
           }
          ],
          "table": [
           {
            "cells": {
             "fill": {
              "color": "#EBF0F8"
             },
             "line": {
              "color": "white"
             }
            },
            "header": {
             "fill": {
              "color": "#C8D4E3"
             },
             "line": {
              "color": "white"
             }
            },
            "type": "table"
           }
          ]
         },
         "layout": {
          "annotationdefaults": {
           "arrowcolor": "#2a3f5f",
           "arrowhead": 0,
           "arrowwidth": 1
          },
          "autotypenumbers": "strict",
          "coloraxis": {
           "colorbar": {
            "outlinewidth": 0,
            "ticks": ""
           }
          },
          "colorscale": {
           "diverging": [
            [
             0,
             "#8e0152"
            ],
            [
             0.1,
             "#c51b7d"
            ],
            [
             0.2,
             "#de77ae"
            ],
            [
             0.3,
             "#f1b6da"
            ],
            [
             0.4,
             "#fde0ef"
            ],
            [
             0.5,
             "#f7f7f7"
            ],
            [
             0.6,
             "#e6f5d0"
            ],
            [
             0.7,
             "#b8e186"
            ],
            [
             0.8,
             "#7fbc41"
            ],
            [
             0.9,
             "#4d9221"
            ],
            [
             1,
             "#276419"
            ]
           ],
           "sequential": [
            [
             0,
             "#0d0887"
            ],
            [
             0.1111111111111111,
             "#46039f"
            ],
            [
             0.2222222222222222,
             "#7201a8"
            ],
            [
             0.3333333333333333,
             "#9c179e"
            ],
            [
             0.4444444444444444,
             "#bd3786"
            ],
            [
             0.5555555555555556,
             "#d8576b"
            ],
            [
             0.6666666666666666,
             "#ed7953"
            ],
            [
             0.7777777777777778,
             "#fb9f3a"
            ],
            [
             0.8888888888888888,
             "#fdca26"
            ],
            [
             1,
             "#f0f921"
            ]
           ],
           "sequentialminus": [
            [
             0,
             "#0d0887"
            ],
            [
             0.1111111111111111,
             "#46039f"
            ],
            [
             0.2222222222222222,
             "#7201a8"
            ],
            [
             0.3333333333333333,
             "#9c179e"
            ],
            [
             0.4444444444444444,
             "#bd3786"
            ],
            [
             0.5555555555555556,
             "#d8576b"
            ],
            [
             0.6666666666666666,
             "#ed7953"
            ],
            [
             0.7777777777777778,
             "#fb9f3a"
            ],
            [
             0.8888888888888888,
             "#fdca26"
            ],
            [
             1,
             "#f0f921"
            ]
           ]
          },
          "colorway": [
           "#636efa",
           "#EF553B",
           "#00cc96",
           "#ab63fa",
           "#FFA15A",
           "#19d3f3",
           "#FF6692",
           "#B6E880",
           "#FF97FF",
           "#FECB52"
          ],
          "font": {
           "color": "#2a3f5f"
          },
          "geo": {
           "bgcolor": "white",
           "lakecolor": "white",
           "landcolor": "#E5ECF6",
           "showlakes": true,
           "showland": true,
           "subunitcolor": "white"
          },
          "hoverlabel": {
           "align": "left"
          },
          "hovermode": "closest",
          "mapbox": {
           "style": "light"
          },
          "paper_bgcolor": "white",
          "plot_bgcolor": "#E5ECF6",
          "polar": {
           "angularaxis": {
            "gridcolor": "white",
            "linecolor": "white",
            "ticks": ""
           },
           "bgcolor": "#E5ECF6",
           "radialaxis": {
            "gridcolor": "white",
            "linecolor": "white",
            "ticks": ""
           }
          },
          "scene": {
           "xaxis": {
            "backgroundcolor": "#E5ECF6",
            "gridcolor": "white",
            "gridwidth": 2,
            "linecolor": "white",
            "showbackground": true,
            "ticks": "",
            "zerolinecolor": "white"
           },
           "yaxis": {
            "backgroundcolor": "#E5ECF6",
            "gridcolor": "white",
            "gridwidth": 2,
            "linecolor": "white",
            "showbackground": true,
            "ticks": "",
            "zerolinecolor": "white"
           },
           "zaxis": {
            "backgroundcolor": "#E5ECF6",
            "gridcolor": "white",
            "gridwidth": 2,
            "linecolor": "white",
            "showbackground": true,
            "ticks": "",
            "zerolinecolor": "white"
           }
          },
          "shapedefaults": {
           "line": {
            "color": "#2a3f5f"
           }
          },
          "ternary": {
           "aaxis": {
            "gridcolor": "white",
            "linecolor": "white",
            "ticks": ""
           },
           "baxis": {
            "gridcolor": "white",
            "linecolor": "white",
            "ticks": ""
           },
           "bgcolor": "#E5ECF6",
           "caxis": {
            "gridcolor": "white",
            "linecolor": "white",
            "ticks": ""
           }
          },
          "title": {
           "x": 0.05
          },
          "xaxis": {
           "automargin": true,
           "gridcolor": "white",
           "linecolor": "white",
           "ticks": "",
           "title": {
            "standoff": 15
           },
           "zerolinecolor": "white",
           "zerolinewidth": 2
          },
          "yaxis": {
           "automargin": true,
           "gridcolor": "white",
           "linecolor": "white",
           "ticks": "",
           "title": {
            "standoff": 15
           },
           "zerolinecolor": "white",
           "zerolinewidth": 2
          }
         }
        },
        "title": {
         "text": "Death vs Obesity"
        },
        "xaxis": {
         "anchor": "y",
         "domain": [
          0,
          1
         ],
         "title": {
          "text": "Obesity"
         }
        },
        "yaxis": {
         "anchor": "x",
         "domain": [
          0,
          1
         ],
         "title": {
          "text": "Deaths"
         }
        }
       }
      },
      "text/html": [
       "<div>                            <div id=\"c8eb3340-5b85-4b5a-9d99-8eb202363ea7\" class=\"plotly-graph-div\" style=\"height:525px; width:100%;\"></div>            <script type=\"text/javascript\">                require([\"plotly\"], function(Plotly) {                    window.PLOTLYENV=window.PLOTLYENV || {};                                    if (document.getElementById(\"c8eb3340-5b85-4b5a-9d99-8eb202363ea7\")) {                    Plotly.newPlot(                        \"c8eb3340-5b85-4b5a-9d99-8eb202363ea7\",                        [{\"hovertemplate\": \"<b>%{hovertext}</b><br><br>Obesity=%{x}<br>Deaths=%{y}<extra></extra>\", \"hovertext\": [\"Afghanistan\", \"Albania\", \"Algeria\", \"Angola\", \"Argentina\", \"Armenia\", \"Australia\", \"Austria\", \"Azerbaijan\", \"Bangladesh\", \"Barbados\", \"Belarus\", \"Belgium\", \"Belize\", \"Benin\", \"Bolivia\", \"Bosnia and Herzegovina\", \"Botswana\", \"Brazil\", \"Bulgaria\", \"Burkina Faso\", \"Cabo Verde\", \"Cambodia\", \"Cameroon\", \"Central African Republic\", \"Chad\", \"China\", \"Colombia\", \"Congo\", \"Costa Rica\", \"Cote d'Ivoire\", \"Croatia\", \"Cuba\", \"Cyprus\", \"Czechia\", \"Denmark\", \"Djibouti\", \"Dominica\", \"Dominican Republic\", \"Ecuador\", \"Egypt\", \"El Salvador\", \"Estonia\", \"Eswatini\", \"Ethiopia\", \"Fiji\", \"Finland\", \"France\", \"Gabon\", \"Gambia\", \"Georgia\", \"Germany\", \"Ghana\", \"Greece\", \"Guatemala\", \"Guinea\", \"Guinea-Bissau\", \"Guyana\", \"Haiti\", \"Honduras\", \"Hungary\", \"Iceland\", \"India\", \"Indonesia\", \"Iran (Islamic Republic of)\", \"Iraq\", \"Ireland\", \"Israel\", \"Italy\", \"Jamaica\", \"Japan\", \"Jordan\", \"Kazakhstan\", \"Kenya\", \"Korea, South\", \"Kuwait\", \"Kyrgyzstan\", \"Lao People's Democratic Republic\", \"Latvia\", \"Lebanon\", \"Lesotho\", \"Liberia\", \"Lithuania\", \"Luxembourg\", \"Madagascar\", \"Malawi\", \"Malaysia\", \"Maldives\", \"Mali\", \"Malta\", \"Mauritania\", \"Mauritius\", \"Mexico\", \"Mongolia\", \"Montenegro\", \"Morocco\", \"Mozambique\", \"Namibia\", \"Nepal\", \"Netherlands\", \"New Zealand\", \"Nicaragua\", \"Niger\", \"Nigeria\", \"North Macedonia\", \"Norway\", \"Oman\", \"Pakistan\", \"Panama\", \"Paraguay\", \"Peru\", \"Philippines\", \"Poland\", \"Portugal\", \"Romania\", \"Russian Federation\", \"Rwanda\", \"Saint Vincent and the Grenadines\", \"Samoa\", \"Sao Tome and Principe\", \"Saudi Arabia\", \"Senegal\", \"Serbia\", \"Sierra Leone\", \"Slovakia\", \"Slovenia\", \"Solomon Islands\", \"South Africa\", \"Spain\", \"Sri Lanka\", \"Sudan\", \"Suriname\", \"Sweden\", \"Switzerland\", \"Thailand\", \"Timor-Leste\", \"Togo\", \"Trinidad and Tobago\", \"Tunisia\", \"Turkey\", \"Uganda\", \"Ukraine\", \"United Arab Emirates\", \"United Kingdom\", \"United Republic of Tanzania\", \"United States of America\", \"Uruguay\", \"Uzbekistan\", \"Vanuatu\", \"Venezuela (Bolivarian Republic of)\", \"Vietnam\", \"Yemen\", \"Zambia\", \"Zimbabwe\"], \"legendgroup\": \"\", \"marker\": {\"color\": \"#636efa\", \"symbol\": \"circle\"}, \"mode\": \"markers\", \"name\": \"\", \"orientation\": \"v\", \"showlegend\": false, \"type\": \"scatter\", \"x\": [-1.4701284334812854, 0.405821693070665, 0.8590006562264734, -1.2277303834212019, 1.0592425236674117, 0.25827505390365746, 1.2594843911083502, 0.36366551045151985, 0.1528845973557951, -1.5860579356839342, 0.669297834440321, 0.8590006562264734, 0.6376806974759622, 0.41636073872545104, -1.0801837442541948, 0.0264160494983603, 0.10018936908186389, -0.24759913752608168, 0.405821693070665, 0.9433130214647629, -1.4701284334812854, -0.827246648539325, -1.575518890029148, -0.9431761507419736, -1.2804256116951331, -1.4385112965169267, -1.2488084747307746, 0.3847436017610926, -1.0591056529446221, 0.764149245333397, -0.9958713790159047, 0.9116958845004045, 0.8695397018812594, 0.4374388300350238, 1.0592425236674117, 0.3004312365228026, -0.6586219180627452, 1.027625386703053, 0.8906177931908318, 0.08965032342707788, 1.3332577106918542, 0.44797787568980985, 0.5639073778924586, -0.521614324550524, -1.5649798443743617, 1.2173282084892054, 0.679836880095107, 0.500673103963741, -0.5321533702053102, -1.0274885159802636, 0.5112121496185275, 0.764149245333397, -0.9220980594324012, 0.9433130214647629, 0.03695509515314669, -1.2488084747307746, -1.0801837442541948, 0.07911127777229149, 0.21611887128451268, 0.10018936908186389, 1.0697815693221981, 0.490134058308955, -1.5439017530647892, -1.2171913377664156, 0.7430711540238246, 0.9433130214647629, 0.8906177931908318, 0.8695397018812594, 0.46905596699938223, 0.6271416518211758, -1.4806674791360717, 1.5756557607519373, 0.3004312365228026, -1.3120427486594919, -1.4279722508621404, 1.955061404324242, -0.32137245710958545, -1.4701284334812854, 0.764149245333397, 1.3543358020014264, -0.521614324550524, -1.0380275616350498, 1.0487034780126254, 0.6060635605116034, -1.4701284334812854, -1.4490503421717131, -0.33191150276437165, -1.1118008812185534, -1.1961132464568434, 1.3227186650370677, -0.7534733289558212, -0.7323952376462488, 1.0487034780126254, 0.12126746039143667, 0.679836880095107, 0.753610199678611, -1.3120427486594919, -0.36352863972873045, -1.5439017530647892, 0.490134058308955, 1.42810912158493, 0.3531264647967338, -1.4490503421717131, -1.1223399268733396, 0.5744464235472446, 0.6903759257498934, 0.46905596699938223, -1.1223399268733396, 0.42689978438023746, 0.05803318646271909, 0.06857223211750547, -1.3120427486594919, 0.753610199678611, 0.500673103963741, 0.6376806974759622, 0.764149245333397, -1.4385112965169267, 0.5639073778924586, 2.850880284981072, -0.827246648539325, 1.7442804912285172, -1.1644961094924846, 0.5322902409280998, -1.1539570638376984, 0.41636073872545104, 0.42689978438023746, 0.21611887128451268, 0.9011568388456181, 0.9116958845004045, -1.3752770225882094, -1.1644961094924846, 0.848461610571687, 0.3847436017610926, 0.28989219086801626, -0.8061685572297523, -1.6387531639578652, -1.1961132464568434, 0.13180650604622268, 0.932773975809977, 1.449187212894503, -1.5122846161004304, 0.8063054279525421, 1.206789162834419, 1.1646329802152742, -1.1961132464568434, 1.9866785412886003, 1.1013987062865565, -0.33191150276437165, 0.5322902409280998, 0.7114540170594658, -1.723065529196155, -0.45838005062180665, -1.2593475203855606, -0.6480828724079588], \"xaxis\": \"x\", \"y\": [-0.6256236542429071, 0.29692825867677397, -0.6009026761870524, -0.7430880182632713, 1.9367968187686688, 1.7636630825102604, -0.6716101990812853, 0.7476460828575382, -0.19372768730456927, -0.6521331773656616, -0.7042199719394683, -0.36992278583532295, 3.9277085702292824, 0.6335423460775023, -0.7665991446005326, 1.5505098665562727, 2.3241660116009677, -0.7281968901418022, 1.7988379895317193, 1.7517693973496617, -0.7672211167840398, -0.18369748873222788, -0.7774143322488324, -0.727432034094874, -0.738271261300781, -0.7592772927978778, -0.7672412303222292, 1.6014986004699334, -0.529418362632328, 0.3593251598106649, -0.7621658567276495, 1.2418942573307754, -0.7409696268275313, -0.5735374148005455, 1.9135439485200991, -0.2883218062495649, -0.5921318472956748, -0.7774143322488324, -0.1017676485702797, 1.6004305493107311, -0.5707168511347334, -0.2194499176393392, -0.43019480483085704, -0.4240393861900358, -0.7301732821793449, -0.7707157412383773, -0.5271979089883349, 1.920915935779922, -0.6926716013303709, -0.6246964344250329, 0.7081257950636164, 0.037998959478995877, -0.7458333201589908, 0.25665780465636695, -0.03904910504967047, -0.7582998814674061, -0.708891952384747, -0.18255902279687258, -0.71583170550078, 0.13194248664332772, 1.4133205248450984, -0.5490797517185336, -0.46938903308903457, -0.5680724120423233, 1.092957732171299, 0.17466142463311987, 0.4978324418319262, 0.20076602725013892, 2.4582228722250052, -0.4857573457971725, -0.7171409987972908, 0.18000683158056716, -0.3682495743247049, -0.6881051248268197, -0.7426413216153886, -0.1939814777001771, -0.18031529831475251, -0.7774143322488324, -0.22202999576894653, -0.2453744472748327, -0.715769782296408, -0.7281694907832797, 0.10869849433106758, 1.169416675346755, -0.7493456127325586, -0.7480791957882001, -0.739056566599384, -0.511154625984824, -0.7476284094149245, 0.2229085919791429, -0.6302700569430398, -0.7536912589469832, 1.9066717512323534, -0.7774143322488324, 2.045040220838142, -0.22157735357442557, -0.7636448868758682, -0.5849082677279823, -0.6057360280107464, 0.9695285017037746, -0.7623703740942107, -0.7037095200634479, -0.7672411361944241, -0.75998850698007, 2.3202202614782856, -0.5584834379357113, 0.15987105569743046, -0.6564601052154733, 1.5922509465784025, 0.037872980081978064, 2.575819023701949, -0.5375964482872589, 1.0184114345574384, 0.8756790462876388, 1.3272097838884223, 0.18067541664985792, -0.7644391738740409, -0.7774143322488324, -0.7774143322488324, -0.5344787649363241, -0.25851162417280793, -0.7146850518833657, 0.2492215278902722, -0.749199131302199, -0.11535512846191709, 2.2292624171781936, -0.7774143322488324, 0.402831838815279, 2.247368152958955, -0.7563472222979126, -0.6846798870622436, -0.19706169356450262, 1.3955912915294304, 1.361566653053102, -0.7747080749012952, -0.7774143322488324, -0.7534906773391646, -0.5077874812334026, 0.20491354273697904, -0.18085455353575905, -0.762718173330549, 0.35694582999504265, -0.5877437757425257, 2.104695343720694, -0.7763593159394213, 1.9561056231507228, -0.6966745890018844, -0.7236719289924806, -0.7774143322488324, -0.676840758439212, -0.7763226058298494, -0.7164411184002955, -0.7175059586862236, -0.7150245488431046], \"yaxis\": \"y\"}],                        {\"legend\": {\"tracegroupgap\": 0}, \"template\": {\"data\": {\"bar\": [{\"error_x\": {\"color\": \"#2a3f5f\"}, \"error_y\": {\"color\": \"#2a3f5f\"}, \"marker\": {\"line\": {\"color\": \"#E5ECF6\", \"width\": 0.5}}, \"type\": \"bar\"}], \"barpolar\": [{\"marker\": {\"line\": {\"color\": \"#E5ECF6\", \"width\": 0.5}}, \"type\": \"barpolar\"}], \"carpet\": [{\"aaxis\": {\"endlinecolor\": \"#2a3f5f\", \"gridcolor\": \"white\", \"linecolor\": \"white\", \"minorgridcolor\": \"white\", \"startlinecolor\": \"#2a3f5f\"}, \"baxis\": {\"endlinecolor\": \"#2a3f5f\", \"gridcolor\": \"white\", \"linecolor\": \"white\", \"minorgridcolor\": \"white\", \"startlinecolor\": \"#2a3f5f\"}, \"type\": \"carpet\"}], \"choropleth\": [{\"colorbar\": {\"outlinewidth\": 0, \"ticks\": \"\"}, \"type\": \"choropleth\"}], \"contour\": [{\"colorbar\": {\"outlinewidth\": 0, \"ticks\": \"\"}, \"colorscale\": [[0.0, \"#0d0887\"], [0.1111111111111111, \"#46039f\"], [0.2222222222222222, \"#7201a8\"], [0.3333333333333333, \"#9c179e\"], [0.4444444444444444, \"#bd3786\"], [0.5555555555555556, \"#d8576b\"], [0.6666666666666666, \"#ed7953\"], [0.7777777777777778, \"#fb9f3a\"], [0.8888888888888888, \"#fdca26\"], [1.0, \"#f0f921\"]], \"type\": \"contour\"}], \"contourcarpet\": [{\"colorbar\": {\"outlinewidth\": 0, \"ticks\": \"\"}, \"type\": \"contourcarpet\"}], \"heatmap\": [{\"colorbar\": {\"outlinewidth\": 0, \"ticks\": \"\"}, \"colorscale\": [[0.0, \"#0d0887\"], [0.1111111111111111, \"#46039f\"], [0.2222222222222222, \"#7201a8\"], [0.3333333333333333, \"#9c179e\"], [0.4444444444444444, \"#bd3786\"], [0.5555555555555556, \"#d8576b\"], [0.6666666666666666, \"#ed7953\"], [0.7777777777777778, \"#fb9f3a\"], [0.8888888888888888, \"#fdca26\"], [1.0, \"#f0f921\"]], \"type\": \"heatmap\"}], \"heatmapgl\": [{\"colorbar\": {\"outlinewidth\": 0, \"ticks\": \"\"}, \"colorscale\": [[0.0, \"#0d0887\"], [0.1111111111111111, \"#46039f\"], [0.2222222222222222, \"#7201a8\"], [0.3333333333333333, \"#9c179e\"], [0.4444444444444444, \"#bd3786\"], [0.5555555555555556, \"#d8576b\"], [0.6666666666666666, \"#ed7953\"], [0.7777777777777778, \"#fb9f3a\"], [0.8888888888888888, \"#fdca26\"], [1.0, \"#f0f921\"]], \"type\": \"heatmapgl\"}], \"histogram\": [{\"marker\": {\"colorbar\": {\"outlinewidth\": 0, \"ticks\": \"\"}}, \"type\": \"histogram\"}], \"histogram2d\": [{\"colorbar\": {\"outlinewidth\": 0, \"ticks\": \"\"}, \"colorscale\": [[0.0, \"#0d0887\"], [0.1111111111111111, \"#46039f\"], [0.2222222222222222, \"#7201a8\"], [0.3333333333333333, \"#9c179e\"], [0.4444444444444444, \"#bd3786\"], [0.5555555555555556, \"#d8576b\"], [0.6666666666666666, \"#ed7953\"], [0.7777777777777778, \"#fb9f3a\"], [0.8888888888888888, \"#fdca26\"], [1.0, \"#f0f921\"]], \"type\": \"histogram2d\"}], \"histogram2dcontour\": [{\"colorbar\": {\"outlinewidth\": 0, \"ticks\": \"\"}, \"colorscale\": [[0.0, \"#0d0887\"], [0.1111111111111111, \"#46039f\"], [0.2222222222222222, \"#7201a8\"], [0.3333333333333333, \"#9c179e\"], [0.4444444444444444, \"#bd3786\"], [0.5555555555555556, \"#d8576b\"], [0.6666666666666666, \"#ed7953\"], [0.7777777777777778, \"#fb9f3a\"], [0.8888888888888888, \"#fdca26\"], [1.0, \"#f0f921\"]], \"type\": \"histogram2dcontour\"}], \"mesh3d\": [{\"colorbar\": {\"outlinewidth\": 0, \"ticks\": \"\"}, \"type\": \"mesh3d\"}], \"parcoords\": [{\"line\": {\"colorbar\": {\"outlinewidth\": 0, \"ticks\": \"\"}}, \"type\": \"parcoords\"}], \"pie\": [{\"automargin\": true, \"type\": \"pie\"}], \"scatter\": [{\"marker\": {\"colorbar\": {\"outlinewidth\": 0, \"ticks\": \"\"}}, \"type\": \"scatter\"}], \"scatter3d\": [{\"line\": {\"colorbar\": {\"outlinewidth\": 0, \"ticks\": \"\"}}, \"marker\": {\"colorbar\": {\"outlinewidth\": 0, \"ticks\": \"\"}}, \"type\": \"scatter3d\"}], \"scattercarpet\": [{\"marker\": {\"colorbar\": {\"outlinewidth\": 0, \"ticks\": \"\"}}, \"type\": \"scattercarpet\"}], \"scattergeo\": [{\"marker\": {\"colorbar\": {\"outlinewidth\": 0, \"ticks\": \"\"}}, \"type\": \"scattergeo\"}], \"scattergl\": [{\"marker\": {\"colorbar\": {\"outlinewidth\": 0, \"ticks\": \"\"}}, \"type\": \"scattergl\"}], \"scattermapbox\": [{\"marker\": {\"colorbar\": {\"outlinewidth\": 0, \"ticks\": \"\"}}, \"type\": \"scattermapbox\"}], \"scatterpolar\": [{\"marker\": {\"colorbar\": {\"outlinewidth\": 0, \"ticks\": \"\"}}, \"type\": \"scatterpolar\"}], \"scatterpolargl\": [{\"marker\": {\"colorbar\": {\"outlinewidth\": 0, \"ticks\": \"\"}}, \"type\": \"scatterpolargl\"}], \"scatterternary\": [{\"marker\": {\"colorbar\": {\"outlinewidth\": 0, \"ticks\": \"\"}}, \"type\": \"scatterternary\"}], \"surface\": [{\"colorbar\": {\"outlinewidth\": 0, \"ticks\": \"\"}, \"colorscale\": [[0.0, \"#0d0887\"], [0.1111111111111111, \"#46039f\"], [0.2222222222222222, \"#7201a8\"], [0.3333333333333333, \"#9c179e\"], [0.4444444444444444, \"#bd3786\"], [0.5555555555555556, \"#d8576b\"], [0.6666666666666666, \"#ed7953\"], [0.7777777777777778, \"#fb9f3a\"], [0.8888888888888888, \"#fdca26\"], [1.0, \"#f0f921\"]], \"type\": \"surface\"}], \"table\": [{\"cells\": {\"fill\": {\"color\": \"#EBF0F8\"}, \"line\": {\"color\": \"white\"}}, \"header\": {\"fill\": {\"color\": \"#C8D4E3\"}, \"line\": {\"color\": \"white\"}}, \"type\": \"table\"}]}, \"layout\": {\"annotationdefaults\": {\"arrowcolor\": \"#2a3f5f\", \"arrowhead\": 0, \"arrowwidth\": 1}, \"autotypenumbers\": \"strict\", \"coloraxis\": {\"colorbar\": {\"outlinewidth\": 0, \"ticks\": \"\"}}, \"colorscale\": {\"diverging\": [[0, \"#8e0152\"], [0.1, \"#c51b7d\"], [0.2, \"#de77ae\"], [0.3, \"#f1b6da\"], [0.4, \"#fde0ef\"], [0.5, \"#f7f7f7\"], [0.6, \"#e6f5d0\"], [0.7, \"#b8e186\"], [0.8, \"#7fbc41\"], [0.9, \"#4d9221\"], [1, \"#276419\"]], \"sequential\": [[0.0, \"#0d0887\"], [0.1111111111111111, \"#46039f\"], [0.2222222222222222, \"#7201a8\"], [0.3333333333333333, \"#9c179e\"], [0.4444444444444444, \"#bd3786\"], [0.5555555555555556, \"#d8576b\"], [0.6666666666666666, \"#ed7953\"], [0.7777777777777778, \"#fb9f3a\"], [0.8888888888888888, \"#fdca26\"], [1.0, \"#f0f921\"]], \"sequentialminus\": [[0.0, \"#0d0887\"], [0.1111111111111111, \"#46039f\"], [0.2222222222222222, \"#7201a8\"], [0.3333333333333333, \"#9c179e\"], [0.4444444444444444, \"#bd3786\"], [0.5555555555555556, \"#d8576b\"], [0.6666666666666666, \"#ed7953\"], [0.7777777777777778, \"#fb9f3a\"], [0.8888888888888888, \"#fdca26\"], [1.0, \"#f0f921\"]]}, \"colorway\": [\"#636efa\", \"#EF553B\", \"#00cc96\", \"#ab63fa\", \"#FFA15A\", \"#19d3f3\", \"#FF6692\", \"#B6E880\", \"#FF97FF\", \"#FECB52\"], \"font\": {\"color\": \"#2a3f5f\"}, \"geo\": {\"bgcolor\": \"white\", \"lakecolor\": \"white\", \"landcolor\": \"#E5ECF6\", \"showlakes\": true, \"showland\": true, \"subunitcolor\": \"white\"}, \"hoverlabel\": {\"align\": \"left\"}, \"hovermode\": \"closest\", \"mapbox\": {\"style\": \"light\"}, \"paper_bgcolor\": \"white\", \"plot_bgcolor\": \"#E5ECF6\", \"polar\": {\"angularaxis\": {\"gridcolor\": \"white\", \"linecolor\": \"white\", \"ticks\": \"\"}, \"bgcolor\": \"#E5ECF6\", \"radialaxis\": {\"gridcolor\": \"white\", \"linecolor\": \"white\", \"ticks\": \"\"}}, \"scene\": {\"xaxis\": {\"backgroundcolor\": \"#E5ECF6\", \"gridcolor\": \"white\", \"gridwidth\": 2, \"linecolor\": \"white\", \"showbackground\": true, \"ticks\": \"\", \"zerolinecolor\": \"white\"}, \"yaxis\": {\"backgroundcolor\": \"#E5ECF6\", \"gridcolor\": \"white\", \"gridwidth\": 2, \"linecolor\": \"white\", \"showbackground\": true, \"ticks\": \"\", \"zerolinecolor\": \"white\"}, \"zaxis\": {\"backgroundcolor\": \"#E5ECF6\", \"gridcolor\": \"white\", \"gridwidth\": 2, \"linecolor\": \"white\", \"showbackground\": true, \"ticks\": \"\", \"zerolinecolor\": \"white\"}}, \"shapedefaults\": {\"line\": {\"color\": \"#2a3f5f\"}}, \"ternary\": {\"aaxis\": {\"gridcolor\": \"white\", \"linecolor\": \"white\", \"ticks\": \"\"}, \"baxis\": {\"gridcolor\": \"white\", \"linecolor\": \"white\", \"ticks\": \"\"}, \"bgcolor\": \"#E5ECF6\", \"caxis\": {\"gridcolor\": \"white\", \"linecolor\": \"white\", \"ticks\": \"\"}}, \"title\": {\"x\": 0.05}, \"xaxis\": {\"automargin\": true, \"gridcolor\": \"white\", \"linecolor\": \"white\", \"ticks\": \"\", \"title\": {\"standoff\": 15}, \"zerolinecolor\": \"white\", \"zerolinewidth\": 2}, \"yaxis\": {\"automargin\": true, \"gridcolor\": \"white\", \"linecolor\": \"white\", \"ticks\": \"\", \"title\": {\"standoff\": 15}, \"zerolinecolor\": \"white\", \"zerolinewidth\": 2}}}, \"title\": {\"text\": \"Death vs Obesity\"}, \"xaxis\": {\"anchor\": \"y\", \"domain\": [0.0, 1.0], \"title\": {\"text\": \"Obesity\"}}, \"yaxis\": {\"anchor\": \"x\", \"domain\": [0.0, 1.0], \"title\": {\"text\": \"Deaths\"}}},                        {\"responsive\": true}                    ).then(function(){\n",
       "                            \n",
       "var gd = document.getElementById('c8eb3340-5b85-4b5a-9d99-8eb202363ea7');\n",
       "var x = new MutationObserver(function (mutations, observer) {{\n",
       "        var display = window.getComputedStyle(gd).display;\n",
       "        if (!display || display === 'none') {{\n",
       "            console.log([gd, 'removed!']);\n",
       "            Plotly.purge(gd);\n",
       "            observer.disconnect();\n",
       "        }}\n",
       "}});\n",
       "\n",
       "// Listen for the removal of the full notebook cells\n",
       "var notebookContainer = gd.closest('#notebook-container');\n",
       "if (notebookContainer) {{\n",
       "    x.observe(notebookContainer, {childList: true});\n",
       "}}\n",
       "\n",
       "// Listen for the clearing of the current output cell\n",
       "var outputEl = gd.closest('.output');\n",
       "if (outputEl) {{\n",
       "    x.observe(outputEl, {childList: true});\n",
       "}}\n",
       "\n",
       "                        })                };                });            </script>        </div>"
      ]
     },
     "metadata": {},
     "output_type": "display_data"
    }
   ],
   "source": [
    "# permet de passer sur les points du graphique et voir quel point correspond à quelle donnée (pratique!)\n",
    "fig = px.scatter(fat_quantity_scaled, x='Obesity', y='Deaths', title=\"Death vs Obesity\", hover_name='Country')\n",
    "fig.show()\n",
    "\n",
    "# on observe une corrélation à partir de x=0 entre l'obésité et le nbre de morts"
   ]
  },
  {
   "cell_type": "markdown",
   "metadata": {},
   "source": [
    "Plot the \"Animal fats\" vs \"Deaths\" statistics"
   ]
  },
  {
   "cell_type": "code",
   "execution_count": 78,
   "metadata": {},
   "outputs": [
    {
     "data": {
      "application/vnd.plotly.v1+json": {
       "config": {
        "plotlyServerURL": "https://plot.ly"
       },
       "data": [
        {
         "hovertemplate": "<b>%{hovertext}</b><br><br>Animal fats=%{x}<br>Deaths=%{y}<extra></extra>",
         "hovertext": [
          "Afghanistan",
          "Albania",
          "Algeria",
          "Angola",
          "Argentina",
          "Armenia",
          "Australia",
          "Austria",
          "Azerbaijan",
          "Bangladesh",
          "Barbados",
          "Belarus",
          "Belgium",
          "Belize",
          "Benin",
          "Bolivia",
          "Bosnia and Herzegovina",
          "Botswana",
          "Brazil",
          "Bulgaria",
          "Burkina Faso",
          "Cabo Verde",
          "Cambodia",
          "Cameroon",
          "Central African Republic",
          "Chad",
          "China",
          "Colombia",
          "Congo",
          "Costa Rica",
          "Cote d'Ivoire",
          "Croatia",
          "Cuba",
          "Cyprus",
          "Czechia",
          "Denmark",
          "Djibouti",
          "Dominica",
          "Dominican Republic",
          "Ecuador",
          "Egypt",
          "El Salvador",
          "Estonia",
          "Eswatini",
          "Ethiopia",
          "Fiji",
          "Finland",
          "France",
          "Gabon",
          "Gambia",
          "Georgia",
          "Germany",
          "Ghana",
          "Greece",
          "Guatemala",
          "Guinea",
          "Guinea-Bissau",
          "Guyana",
          "Haiti",
          "Honduras",
          "Hungary",
          "Iceland",
          "India",
          "Indonesia",
          "Iran (Islamic Republic of)",
          "Iraq",
          "Ireland",
          "Israel",
          "Italy",
          "Jamaica",
          "Japan",
          "Jordan",
          "Kazakhstan",
          "Kenya",
          "Korea, South",
          "Kuwait",
          "Kyrgyzstan",
          "Lao People's Democratic Republic",
          "Latvia",
          "Lebanon",
          "Lesotho",
          "Liberia",
          "Lithuania",
          "Luxembourg",
          "Madagascar",
          "Malawi",
          "Malaysia",
          "Maldives",
          "Mali",
          "Malta",
          "Mauritania",
          "Mauritius",
          "Mexico",
          "Mongolia",
          "Montenegro",
          "Morocco",
          "Mozambique",
          "Namibia",
          "Nepal",
          "Netherlands",
          "New Zealand",
          "Nicaragua",
          "Niger",
          "Nigeria",
          "North Macedonia",
          "Norway",
          "Oman",
          "Pakistan",
          "Panama",
          "Paraguay",
          "Peru",
          "Philippines",
          "Poland",
          "Portugal",
          "Romania",
          "Russian Federation",
          "Rwanda",
          "Saint Vincent and the Grenadines",
          "Samoa",
          "Sao Tome and Principe",
          "Saudi Arabia",
          "Senegal",
          "Serbia",
          "Sierra Leone",
          "Slovakia",
          "Slovenia",
          "Solomon Islands",
          "South Africa",
          "Spain",
          "Sri Lanka",
          "Sudan",
          "Suriname",
          "Sweden",
          "Switzerland",
          "Thailand",
          "Timor-Leste",
          "Togo",
          "Trinidad and Tobago",
          "Tunisia",
          "Turkey",
          "Uganda",
          "Ukraine",
          "United Arab Emirates",
          "United Kingdom",
          "United Republic of Tanzania",
          "United States of America",
          "Uruguay",
          "Uzbekistan",
          "Vanuatu",
          "Venezuela (Bolivarian Republic of)",
          "Vietnam",
          "Yemen",
          "Zambia",
          "Zimbabwe"
         ],
         "legendgroup": "",
         "marker": {
          "color": "#636efa",
          "symbol": "circle"
         },
         "mode": "markers",
         "name": "",
         "orientation": "v",
         "showlegend": false,
         "type": "scatter",
         "x": [
          0.6169246385343449,
          -0.2206214437217168,
          -0.9730156142925407,
          -0.8488705761483546,
          -0.2533446187592415,
          0.628718118588927,
          0.13342181320799862,
          2.5962288746316315,
          1.0875591349910074,
          -0.8715916858231322,
          -0.05458715870011549,
          1.1077125502741545,
          2.5280655456072982,
          1.6881309104287898,
          -1.0971009386136654,
          0.003693532607592713,
          -0.5108007668875039,
          -0.007502809216377773,
          0.0616756547999952,
          1.1558418916614626,
          -1.06231763668053,
          0.040656389082461004,
          -0.9769865835261088,
          -1.0068733519682276,
          -0.3819980505445462,
          -0.3075349131872591,
          -0.2117837979086626,
          -0.7088715179814262,
          -1.1396768944562843,
          0.5803797788209046,
          -1.1595018837125948,
          0.9821642372880309,
          -0.27911113341013916,
          -0.6826272927460394,
          1.6555570199489182,
          3.0136583547407856,
          -0.8239101981087827,
          -0.10444820095619795,
          -0.5762471169625533,
          0.16829468587572582,
          -0.2188598859414121,
          0.6669946791711413,
          0.7099289179521272,
          -0.3029369488115485,
          -0.8122062887887923,
          1.054597104661238,
          0.6635909912566542,
          1.505824608623018,
          -1.0205776743607677,
          -1.1648164139650394,
          0.9270782355140954,
          2.045876424388298,
          -1.000245117608437,
          -0.7336527545518146,
          -0.7147533295529522,
          -1.0152631441083229,
          -1.0535695616020677,
          -0.9417255710084842,
          -0.7189631540787652,
          -0.44636955180449456,
          2.433956560462884,
          0.8815165885184179,
          0.9941667157233273,
          -1.0304304551658618,
          0.5616296383796954,
          -0.10280607082201557,
          1.3408950293280486,
          -0.8584546447496735,
          0.3693212712111763,
          0.6019066120344589,
          -0.6706845281338041,
          -0.6826870065691004,
          -0.33494355797233916,
          -0.6813135886386934,
          0.028713624470225692,
          -0.5963408184226393,
          -0.21166437026254026,
          -0.05873726940286726,
          1.8770654465943521,
          -0.5948778297576405,
          -1.0829487625481666,
          -1.1168662140469148,
          1.5620750299466464,
          0.6934180458757119,
          -0.719769290690091,
          -0.45675975701713917,
          -0.7986213940423746,
          0.20445140573926826,
          -0.8767867884294547,
          0.7462946361963837,
          -0.7188437264326428,
          -0.8062050495711441,
          -0.2697957770125956,
          0.40580641710155524,
          -0.07984610585499315,
          -0.1718053933692049,
          -0.9065839861369818,
          -0.2505082121638356,
          -0.2533446187592415,
          0.7441150816546506,
          2.9317011325893207,
          -0.5449570736784968,
          -0.44750411444265675,
          -0.9997076932008865,
          0.8868012618593318,
          0.6832368390437812,
          -0.5329247383316699,
          1.4373029966603181,
          1.5018834963009806,
          -0.08211523113131787,
          -0.9108236675743252,
          0.9599805520208038,
          2.4529754131078687,
          1.6248641148954734,
          0.8188469312157131,
          0.9088058056573756,
          -0.9314547934419617,
          -0.9169443344380959,
          0.18567140838652826,
          -1.054554839682577,
          -0.4504300917726545,
          -1.0057387893300653,
          -0.02577523907309789,
          -1.1907919269966512,
          3.2189246215135796,
          1.745038183806091,
          -0.20408071473377087,
          -0.9858540862506935,
          -0.5051876675197533,
          -1.145498992204749,
          -0.7305774926641639,
          -1.0065449259413912,
          1.6596474168286088,
          0.6189847654299554,
          -0.7434756784453782,
          -0.6334529594551604,
          -1.0811274909448005,
          0.3556169488186364,
          -0.44839982178857446,
          -0.36333748083792855,
          -0.9534593372400053,
          0.3994468949455399,
          -0.045540514506347385,
          0.031460460331039775,
          -0.7798413966896346,
          -0.25522560418566853,
          -0.20154287725367084,
          -0.4979324380178204,
          -0.6577564854410592,
          -0.563946069411951,
          -0.09922324143834498,
          -0.6398423385227063,
          -0.7598074090526099,
          -0.3588290871968098
         ],
         "xaxis": "x",
         "y": [
          -0.6256236542429071,
          0.29692825867677397,
          -0.6009026761870524,
          -0.7430880182632713,
          1.9367968187686688,
          1.7636630825102604,
          -0.6716101990812853,
          0.7476460828575382,
          -0.19372768730456927,
          -0.6521331773656616,
          -0.7042199719394683,
          -0.36992278583532295,
          3.9277085702292824,
          0.6335423460775023,
          -0.7665991446005326,
          1.5505098665562727,
          2.3241660116009677,
          -0.7281968901418022,
          1.7988379895317193,
          1.7517693973496617,
          -0.7672211167840398,
          -0.18369748873222788,
          -0.7774143322488324,
          -0.727432034094874,
          -0.738271261300781,
          -0.7592772927978778,
          -0.7672412303222292,
          1.6014986004699334,
          -0.529418362632328,
          0.3593251598106649,
          -0.7621658567276495,
          1.2418942573307754,
          -0.7409696268275313,
          -0.5735374148005455,
          1.9135439485200991,
          -0.2883218062495649,
          -0.5921318472956748,
          -0.7774143322488324,
          -0.1017676485702797,
          1.6004305493107311,
          -0.5707168511347334,
          -0.2194499176393392,
          -0.43019480483085704,
          -0.4240393861900358,
          -0.7301732821793449,
          -0.7707157412383773,
          -0.5271979089883349,
          1.920915935779922,
          -0.6926716013303709,
          -0.6246964344250329,
          0.7081257950636164,
          0.037998959478995877,
          -0.7458333201589908,
          0.25665780465636695,
          -0.03904910504967047,
          -0.7582998814674061,
          -0.708891952384747,
          -0.18255902279687258,
          -0.71583170550078,
          0.13194248664332772,
          1.4133205248450984,
          -0.5490797517185336,
          -0.46938903308903457,
          -0.5680724120423233,
          1.092957732171299,
          0.17466142463311987,
          0.4978324418319262,
          0.20076602725013892,
          2.4582228722250052,
          -0.4857573457971725,
          -0.7171409987972908,
          0.18000683158056716,
          -0.3682495743247049,
          -0.6881051248268197,
          -0.7426413216153886,
          -0.1939814777001771,
          -0.18031529831475251,
          -0.7774143322488324,
          -0.22202999576894653,
          -0.2453744472748327,
          -0.715769782296408,
          -0.7281694907832797,
          0.10869849433106758,
          1.169416675346755,
          -0.7493456127325586,
          -0.7480791957882001,
          -0.739056566599384,
          -0.511154625984824,
          -0.7476284094149245,
          0.2229085919791429,
          -0.6302700569430398,
          -0.7536912589469832,
          1.9066717512323534,
          -0.7774143322488324,
          2.045040220838142,
          -0.22157735357442557,
          -0.7636448868758682,
          -0.5849082677279823,
          -0.6057360280107464,
          0.9695285017037746,
          -0.7623703740942107,
          -0.7037095200634479,
          -0.7672411361944241,
          -0.75998850698007,
          2.3202202614782856,
          -0.5584834379357113,
          0.15987105569743046,
          -0.6564601052154733,
          1.5922509465784025,
          0.037872980081978064,
          2.575819023701949,
          -0.5375964482872589,
          1.0184114345574384,
          0.8756790462876388,
          1.3272097838884223,
          0.18067541664985792,
          -0.7644391738740409,
          -0.7774143322488324,
          -0.7774143322488324,
          -0.5344787649363241,
          -0.25851162417280793,
          -0.7146850518833657,
          0.2492215278902722,
          -0.749199131302199,
          -0.11535512846191709,
          2.2292624171781936,
          -0.7774143322488324,
          0.402831838815279,
          2.247368152958955,
          -0.7563472222979126,
          -0.6846798870622436,
          -0.19706169356450262,
          1.3955912915294304,
          1.361566653053102,
          -0.7747080749012952,
          -0.7774143322488324,
          -0.7534906773391646,
          -0.5077874812334026,
          0.20491354273697904,
          -0.18085455353575905,
          -0.762718173330549,
          0.35694582999504265,
          -0.5877437757425257,
          2.104695343720694,
          -0.7763593159394213,
          1.9561056231507228,
          -0.6966745890018844,
          -0.7236719289924806,
          -0.7774143322488324,
          -0.676840758439212,
          -0.7763226058298494,
          -0.7164411184002955,
          -0.7175059586862236,
          -0.7150245488431046
         ],
         "yaxis": "y"
        }
       ],
       "layout": {
        "legend": {
         "tracegroupgap": 0
        },
        "template": {
         "data": {
          "bar": [
           {
            "error_x": {
             "color": "#2a3f5f"
            },
            "error_y": {
             "color": "#2a3f5f"
            },
            "marker": {
             "line": {
              "color": "#E5ECF6",
              "width": 0.5
             }
            },
            "type": "bar"
           }
          ],
          "barpolar": [
           {
            "marker": {
             "line": {
              "color": "#E5ECF6",
              "width": 0.5
             }
            },
            "type": "barpolar"
           }
          ],
          "carpet": [
           {
            "aaxis": {
             "endlinecolor": "#2a3f5f",
             "gridcolor": "white",
             "linecolor": "white",
             "minorgridcolor": "white",
             "startlinecolor": "#2a3f5f"
            },
            "baxis": {
             "endlinecolor": "#2a3f5f",
             "gridcolor": "white",
             "linecolor": "white",
             "minorgridcolor": "white",
             "startlinecolor": "#2a3f5f"
            },
            "type": "carpet"
           }
          ],
          "choropleth": [
           {
            "colorbar": {
             "outlinewidth": 0,
             "ticks": ""
            },
            "type": "choropleth"
           }
          ],
          "contour": [
           {
            "colorbar": {
             "outlinewidth": 0,
             "ticks": ""
            },
            "colorscale": [
             [
              0,
              "#0d0887"
             ],
             [
              0.1111111111111111,
              "#46039f"
             ],
             [
              0.2222222222222222,
              "#7201a8"
             ],
             [
              0.3333333333333333,
              "#9c179e"
             ],
             [
              0.4444444444444444,
              "#bd3786"
             ],
             [
              0.5555555555555556,
              "#d8576b"
             ],
             [
              0.6666666666666666,
              "#ed7953"
             ],
             [
              0.7777777777777778,
              "#fb9f3a"
             ],
             [
              0.8888888888888888,
              "#fdca26"
             ],
             [
              1,
              "#f0f921"
             ]
            ],
            "type": "contour"
           }
          ],
          "contourcarpet": [
           {
            "colorbar": {
             "outlinewidth": 0,
             "ticks": ""
            },
            "type": "contourcarpet"
           }
          ],
          "heatmap": [
           {
            "colorbar": {
             "outlinewidth": 0,
             "ticks": ""
            },
            "colorscale": [
             [
              0,
              "#0d0887"
             ],
             [
              0.1111111111111111,
              "#46039f"
             ],
             [
              0.2222222222222222,
              "#7201a8"
             ],
             [
              0.3333333333333333,
              "#9c179e"
             ],
             [
              0.4444444444444444,
              "#bd3786"
             ],
             [
              0.5555555555555556,
              "#d8576b"
             ],
             [
              0.6666666666666666,
              "#ed7953"
             ],
             [
              0.7777777777777778,
              "#fb9f3a"
             ],
             [
              0.8888888888888888,
              "#fdca26"
             ],
             [
              1,
              "#f0f921"
             ]
            ],
            "type": "heatmap"
           }
          ],
          "heatmapgl": [
           {
            "colorbar": {
             "outlinewidth": 0,
             "ticks": ""
            },
            "colorscale": [
             [
              0,
              "#0d0887"
             ],
             [
              0.1111111111111111,
              "#46039f"
             ],
             [
              0.2222222222222222,
              "#7201a8"
             ],
             [
              0.3333333333333333,
              "#9c179e"
             ],
             [
              0.4444444444444444,
              "#bd3786"
             ],
             [
              0.5555555555555556,
              "#d8576b"
             ],
             [
              0.6666666666666666,
              "#ed7953"
             ],
             [
              0.7777777777777778,
              "#fb9f3a"
             ],
             [
              0.8888888888888888,
              "#fdca26"
             ],
             [
              1,
              "#f0f921"
             ]
            ],
            "type": "heatmapgl"
           }
          ],
          "histogram": [
           {
            "marker": {
             "colorbar": {
              "outlinewidth": 0,
              "ticks": ""
             }
            },
            "type": "histogram"
           }
          ],
          "histogram2d": [
           {
            "colorbar": {
             "outlinewidth": 0,
             "ticks": ""
            },
            "colorscale": [
             [
              0,
              "#0d0887"
             ],
             [
              0.1111111111111111,
              "#46039f"
             ],
             [
              0.2222222222222222,
              "#7201a8"
             ],
             [
              0.3333333333333333,
              "#9c179e"
             ],
             [
              0.4444444444444444,
              "#bd3786"
             ],
             [
              0.5555555555555556,
              "#d8576b"
             ],
             [
              0.6666666666666666,
              "#ed7953"
             ],
             [
              0.7777777777777778,
              "#fb9f3a"
             ],
             [
              0.8888888888888888,
              "#fdca26"
             ],
             [
              1,
              "#f0f921"
             ]
            ],
            "type": "histogram2d"
           }
          ],
          "histogram2dcontour": [
           {
            "colorbar": {
             "outlinewidth": 0,
             "ticks": ""
            },
            "colorscale": [
             [
              0,
              "#0d0887"
             ],
             [
              0.1111111111111111,
              "#46039f"
             ],
             [
              0.2222222222222222,
              "#7201a8"
             ],
             [
              0.3333333333333333,
              "#9c179e"
             ],
             [
              0.4444444444444444,
              "#bd3786"
             ],
             [
              0.5555555555555556,
              "#d8576b"
             ],
             [
              0.6666666666666666,
              "#ed7953"
             ],
             [
              0.7777777777777778,
              "#fb9f3a"
             ],
             [
              0.8888888888888888,
              "#fdca26"
             ],
             [
              1,
              "#f0f921"
             ]
            ],
            "type": "histogram2dcontour"
           }
          ],
          "mesh3d": [
           {
            "colorbar": {
             "outlinewidth": 0,
             "ticks": ""
            },
            "type": "mesh3d"
           }
          ],
          "parcoords": [
           {
            "line": {
             "colorbar": {
              "outlinewidth": 0,
              "ticks": ""
             }
            },
            "type": "parcoords"
           }
          ],
          "pie": [
           {
            "automargin": true,
            "type": "pie"
           }
          ],
          "scatter": [
           {
            "marker": {
             "colorbar": {
              "outlinewidth": 0,
              "ticks": ""
             }
            },
            "type": "scatter"
           }
          ],
          "scatter3d": [
           {
            "line": {
             "colorbar": {
              "outlinewidth": 0,
              "ticks": ""
             }
            },
            "marker": {
             "colorbar": {
              "outlinewidth": 0,
              "ticks": ""
             }
            },
            "type": "scatter3d"
           }
          ],
          "scattercarpet": [
           {
            "marker": {
             "colorbar": {
              "outlinewidth": 0,
              "ticks": ""
             }
            },
            "type": "scattercarpet"
           }
          ],
          "scattergeo": [
           {
            "marker": {
             "colorbar": {
              "outlinewidth": 0,
              "ticks": ""
             }
            },
            "type": "scattergeo"
           }
          ],
          "scattergl": [
           {
            "marker": {
             "colorbar": {
              "outlinewidth": 0,
              "ticks": ""
             }
            },
            "type": "scattergl"
           }
          ],
          "scattermapbox": [
           {
            "marker": {
             "colorbar": {
              "outlinewidth": 0,
              "ticks": ""
             }
            },
            "type": "scattermapbox"
           }
          ],
          "scatterpolar": [
           {
            "marker": {
             "colorbar": {
              "outlinewidth": 0,
              "ticks": ""
             }
            },
            "type": "scatterpolar"
           }
          ],
          "scatterpolargl": [
           {
            "marker": {
             "colorbar": {
              "outlinewidth": 0,
              "ticks": ""
             }
            },
            "type": "scatterpolargl"
           }
          ],
          "scatterternary": [
           {
            "marker": {
             "colorbar": {
              "outlinewidth": 0,
              "ticks": ""
             }
            },
            "type": "scatterternary"
           }
          ],
          "surface": [
           {
            "colorbar": {
             "outlinewidth": 0,
             "ticks": ""
            },
            "colorscale": [
             [
              0,
              "#0d0887"
             ],
             [
              0.1111111111111111,
              "#46039f"
             ],
             [
              0.2222222222222222,
              "#7201a8"
             ],
             [
              0.3333333333333333,
              "#9c179e"
             ],
             [
              0.4444444444444444,
              "#bd3786"
             ],
             [
              0.5555555555555556,
              "#d8576b"
             ],
             [
              0.6666666666666666,
              "#ed7953"
             ],
             [
              0.7777777777777778,
              "#fb9f3a"
             ],
             [
              0.8888888888888888,
              "#fdca26"
             ],
             [
              1,
              "#f0f921"
             ]
            ],
            "type": "surface"
           }
          ],
          "table": [
           {
            "cells": {
             "fill": {
              "color": "#EBF0F8"
             },
             "line": {
              "color": "white"
             }
            },
            "header": {
             "fill": {
              "color": "#C8D4E3"
             },
             "line": {
              "color": "white"
             }
            },
            "type": "table"
           }
          ]
         },
         "layout": {
          "annotationdefaults": {
           "arrowcolor": "#2a3f5f",
           "arrowhead": 0,
           "arrowwidth": 1
          },
          "autotypenumbers": "strict",
          "coloraxis": {
           "colorbar": {
            "outlinewidth": 0,
            "ticks": ""
           }
          },
          "colorscale": {
           "diverging": [
            [
             0,
             "#8e0152"
            ],
            [
             0.1,
             "#c51b7d"
            ],
            [
             0.2,
             "#de77ae"
            ],
            [
             0.3,
             "#f1b6da"
            ],
            [
             0.4,
             "#fde0ef"
            ],
            [
             0.5,
             "#f7f7f7"
            ],
            [
             0.6,
             "#e6f5d0"
            ],
            [
             0.7,
             "#b8e186"
            ],
            [
             0.8,
             "#7fbc41"
            ],
            [
             0.9,
             "#4d9221"
            ],
            [
             1,
             "#276419"
            ]
           ],
           "sequential": [
            [
             0,
             "#0d0887"
            ],
            [
             0.1111111111111111,
             "#46039f"
            ],
            [
             0.2222222222222222,
             "#7201a8"
            ],
            [
             0.3333333333333333,
             "#9c179e"
            ],
            [
             0.4444444444444444,
             "#bd3786"
            ],
            [
             0.5555555555555556,
             "#d8576b"
            ],
            [
             0.6666666666666666,
             "#ed7953"
            ],
            [
             0.7777777777777778,
             "#fb9f3a"
            ],
            [
             0.8888888888888888,
             "#fdca26"
            ],
            [
             1,
             "#f0f921"
            ]
           ],
           "sequentialminus": [
            [
             0,
             "#0d0887"
            ],
            [
             0.1111111111111111,
             "#46039f"
            ],
            [
             0.2222222222222222,
             "#7201a8"
            ],
            [
             0.3333333333333333,
             "#9c179e"
            ],
            [
             0.4444444444444444,
             "#bd3786"
            ],
            [
             0.5555555555555556,
             "#d8576b"
            ],
            [
             0.6666666666666666,
             "#ed7953"
            ],
            [
             0.7777777777777778,
             "#fb9f3a"
            ],
            [
             0.8888888888888888,
             "#fdca26"
            ],
            [
             1,
             "#f0f921"
            ]
           ]
          },
          "colorway": [
           "#636efa",
           "#EF553B",
           "#00cc96",
           "#ab63fa",
           "#FFA15A",
           "#19d3f3",
           "#FF6692",
           "#B6E880",
           "#FF97FF",
           "#FECB52"
          ],
          "font": {
           "color": "#2a3f5f"
          },
          "geo": {
           "bgcolor": "white",
           "lakecolor": "white",
           "landcolor": "#E5ECF6",
           "showlakes": true,
           "showland": true,
           "subunitcolor": "white"
          },
          "hoverlabel": {
           "align": "left"
          },
          "hovermode": "closest",
          "mapbox": {
           "style": "light"
          },
          "paper_bgcolor": "white",
          "plot_bgcolor": "#E5ECF6",
          "polar": {
           "angularaxis": {
            "gridcolor": "white",
            "linecolor": "white",
            "ticks": ""
           },
           "bgcolor": "#E5ECF6",
           "radialaxis": {
            "gridcolor": "white",
            "linecolor": "white",
            "ticks": ""
           }
          },
          "scene": {
           "xaxis": {
            "backgroundcolor": "#E5ECF6",
            "gridcolor": "white",
            "gridwidth": 2,
            "linecolor": "white",
            "showbackground": true,
            "ticks": "",
            "zerolinecolor": "white"
           },
           "yaxis": {
            "backgroundcolor": "#E5ECF6",
            "gridcolor": "white",
            "gridwidth": 2,
            "linecolor": "white",
            "showbackground": true,
            "ticks": "",
            "zerolinecolor": "white"
           },
           "zaxis": {
            "backgroundcolor": "#E5ECF6",
            "gridcolor": "white",
            "gridwidth": 2,
            "linecolor": "white",
            "showbackground": true,
            "ticks": "",
            "zerolinecolor": "white"
           }
          },
          "shapedefaults": {
           "line": {
            "color": "#2a3f5f"
           }
          },
          "ternary": {
           "aaxis": {
            "gridcolor": "white",
            "linecolor": "white",
            "ticks": ""
           },
           "baxis": {
            "gridcolor": "white",
            "linecolor": "white",
            "ticks": ""
           },
           "bgcolor": "#E5ECF6",
           "caxis": {
            "gridcolor": "white",
            "linecolor": "white",
            "ticks": ""
           }
          },
          "title": {
           "x": 0.05
          },
          "xaxis": {
           "automargin": true,
           "gridcolor": "white",
           "linecolor": "white",
           "ticks": "",
           "title": {
            "standoff": 15
           },
           "zerolinecolor": "white",
           "zerolinewidth": 2
          },
          "yaxis": {
           "automargin": true,
           "gridcolor": "white",
           "linecolor": "white",
           "ticks": "",
           "title": {
            "standoff": 15
           },
           "zerolinecolor": "white",
           "zerolinewidth": 2
          }
         }
        },
        "title": {
         "text": "Death vs Animal fats"
        },
        "xaxis": {
         "anchor": "y",
         "domain": [
          0,
          1
         ],
         "title": {
          "text": "Animal fats"
         }
        },
        "yaxis": {
         "anchor": "x",
         "domain": [
          0,
          1
         ],
         "title": {
          "text": "Deaths"
         }
        }
       }
      },
      "text/html": [
       "<div>                            <div id=\"d9ea298f-fd44-4143-826f-52323895a222\" class=\"plotly-graph-div\" style=\"height:525px; width:100%;\"></div>            <script type=\"text/javascript\">                require([\"plotly\"], function(Plotly) {                    window.PLOTLYENV=window.PLOTLYENV || {};                                    if (document.getElementById(\"d9ea298f-fd44-4143-826f-52323895a222\")) {                    Plotly.newPlot(                        \"d9ea298f-fd44-4143-826f-52323895a222\",                        [{\"hovertemplate\": \"<b>%{hovertext}</b><br><br>Animal fats=%{x}<br>Deaths=%{y}<extra></extra>\", \"hovertext\": [\"Afghanistan\", \"Albania\", \"Algeria\", \"Angola\", \"Argentina\", \"Armenia\", \"Australia\", \"Austria\", \"Azerbaijan\", \"Bangladesh\", \"Barbados\", \"Belarus\", \"Belgium\", \"Belize\", \"Benin\", \"Bolivia\", \"Bosnia and Herzegovina\", \"Botswana\", \"Brazil\", \"Bulgaria\", \"Burkina Faso\", \"Cabo Verde\", \"Cambodia\", \"Cameroon\", \"Central African Republic\", \"Chad\", \"China\", \"Colombia\", \"Congo\", \"Costa Rica\", \"Cote d'Ivoire\", \"Croatia\", \"Cuba\", \"Cyprus\", \"Czechia\", \"Denmark\", \"Djibouti\", \"Dominica\", \"Dominican Republic\", \"Ecuador\", \"Egypt\", \"El Salvador\", \"Estonia\", \"Eswatini\", \"Ethiopia\", \"Fiji\", \"Finland\", \"France\", \"Gabon\", \"Gambia\", \"Georgia\", \"Germany\", \"Ghana\", \"Greece\", \"Guatemala\", \"Guinea\", \"Guinea-Bissau\", \"Guyana\", \"Haiti\", \"Honduras\", \"Hungary\", \"Iceland\", \"India\", \"Indonesia\", \"Iran (Islamic Republic of)\", \"Iraq\", \"Ireland\", \"Israel\", \"Italy\", \"Jamaica\", \"Japan\", \"Jordan\", \"Kazakhstan\", \"Kenya\", \"Korea, South\", \"Kuwait\", \"Kyrgyzstan\", \"Lao People's Democratic Republic\", \"Latvia\", \"Lebanon\", \"Lesotho\", \"Liberia\", \"Lithuania\", \"Luxembourg\", \"Madagascar\", \"Malawi\", \"Malaysia\", \"Maldives\", \"Mali\", \"Malta\", \"Mauritania\", \"Mauritius\", \"Mexico\", \"Mongolia\", \"Montenegro\", \"Morocco\", \"Mozambique\", \"Namibia\", \"Nepal\", \"Netherlands\", \"New Zealand\", \"Nicaragua\", \"Niger\", \"Nigeria\", \"North Macedonia\", \"Norway\", \"Oman\", \"Pakistan\", \"Panama\", \"Paraguay\", \"Peru\", \"Philippines\", \"Poland\", \"Portugal\", \"Romania\", \"Russian Federation\", \"Rwanda\", \"Saint Vincent and the Grenadines\", \"Samoa\", \"Sao Tome and Principe\", \"Saudi Arabia\", \"Senegal\", \"Serbia\", \"Sierra Leone\", \"Slovakia\", \"Slovenia\", \"Solomon Islands\", \"South Africa\", \"Spain\", \"Sri Lanka\", \"Sudan\", \"Suriname\", \"Sweden\", \"Switzerland\", \"Thailand\", \"Timor-Leste\", \"Togo\", \"Trinidad and Tobago\", \"Tunisia\", \"Turkey\", \"Uganda\", \"Ukraine\", \"United Arab Emirates\", \"United Kingdom\", \"United Republic of Tanzania\", \"United States of America\", \"Uruguay\", \"Uzbekistan\", \"Vanuatu\", \"Venezuela (Bolivarian Republic of)\", \"Vietnam\", \"Yemen\", \"Zambia\", \"Zimbabwe\"], \"legendgroup\": \"\", \"marker\": {\"color\": \"#636efa\", \"symbol\": \"circle\"}, \"mode\": \"markers\", \"name\": \"\", \"orientation\": \"v\", \"showlegend\": false, \"type\": \"scatter\", \"x\": [0.6169246385343449, -0.2206214437217168, -0.9730156142925407, -0.8488705761483546, -0.2533446187592415, 0.628718118588927, 0.13342181320799862, 2.5962288746316315, 1.0875591349910074, -0.8715916858231322, -0.05458715870011549, 1.1077125502741545, 2.5280655456072982, 1.6881309104287898, -1.0971009386136654, 0.003693532607592713, -0.5108007668875039, -0.007502809216377773, 0.0616756547999952, 1.1558418916614626, -1.06231763668053, 0.040656389082461004, -0.9769865835261088, -1.0068733519682276, -0.3819980505445462, -0.3075349131872591, -0.2117837979086626, -0.7088715179814262, -1.1396768944562843, 0.5803797788209046, -1.1595018837125948, 0.9821642372880309, -0.27911113341013916, -0.6826272927460394, 1.6555570199489182, 3.0136583547407856, -0.8239101981087827, -0.10444820095619795, -0.5762471169625533, 0.16829468587572582, -0.2188598859414121, 0.6669946791711413, 0.7099289179521272, -0.3029369488115485, -0.8122062887887923, 1.054597104661238, 0.6635909912566542, 1.505824608623018, -1.0205776743607677, -1.1648164139650394, 0.9270782355140954, 2.045876424388298, -1.000245117608437, -0.7336527545518146, -0.7147533295529522, -1.0152631441083229, -1.0535695616020677, -0.9417255710084842, -0.7189631540787652, -0.44636955180449456, 2.433956560462884, 0.8815165885184179, 0.9941667157233273, -1.0304304551658618, 0.5616296383796954, -0.10280607082201557, 1.3408950293280486, -0.8584546447496735, 0.3693212712111763, 0.6019066120344589, -0.6706845281338041, -0.6826870065691004, -0.33494355797233916, -0.6813135886386934, 0.028713624470225692, -0.5963408184226393, -0.21166437026254026, -0.05873726940286726, 1.8770654465943521, -0.5948778297576405, -1.0829487625481666, -1.1168662140469148, 1.5620750299466464, 0.6934180458757119, -0.719769290690091, -0.45675975701713917, -0.7986213940423746, 0.20445140573926826, -0.8767867884294547, 0.7462946361963837, -0.7188437264326428, -0.8062050495711441, -0.2697957770125956, 0.40580641710155524, -0.07984610585499315, -0.1718053933692049, -0.9065839861369818, -0.2505082121638356, -0.2533446187592415, 0.7441150816546506, 2.9317011325893207, -0.5449570736784968, -0.44750411444265675, -0.9997076932008865, 0.8868012618593318, 0.6832368390437812, -0.5329247383316699, 1.4373029966603181, 1.5018834963009806, -0.08211523113131787, -0.9108236675743252, 0.9599805520208038, 2.4529754131078687, 1.6248641148954734, 0.8188469312157131, 0.9088058056573756, -0.9314547934419617, -0.9169443344380959, 0.18567140838652826, -1.054554839682577, -0.4504300917726545, -1.0057387893300653, -0.02577523907309789, -1.1907919269966512, 3.2189246215135796, 1.745038183806091, -0.20408071473377087, -0.9858540862506935, -0.5051876675197533, -1.145498992204749, -0.7305774926641639, -1.0065449259413912, 1.6596474168286088, 0.6189847654299554, -0.7434756784453782, -0.6334529594551604, -1.0811274909448005, 0.3556169488186364, -0.44839982178857446, -0.36333748083792855, -0.9534593372400053, 0.3994468949455399, -0.045540514506347385, 0.031460460331039775, -0.7798413966896346, -0.25522560418566853, -0.20154287725367084, -0.4979324380178204, -0.6577564854410592, -0.563946069411951, -0.09922324143834498, -0.6398423385227063, -0.7598074090526099, -0.3588290871968098], \"xaxis\": \"x\", \"y\": [-0.6256236542429071, 0.29692825867677397, -0.6009026761870524, -0.7430880182632713, 1.9367968187686688, 1.7636630825102604, -0.6716101990812853, 0.7476460828575382, -0.19372768730456927, -0.6521331773656616, -0.7042199719394683, -0.36992278583532295, 3.9277085702292824, 0.6335423460775023, -0.7665991446005326, 1.5505098665562727, 2.3241660116009677, -0.7281968901418022, 1.7988379895317193, 1.7517693973496617, -0.7672211167840398, -0.18369748873222788, -0.7774143322488324, -0.727432034094874, -0.738271261300781, -0.7592772927978778, -0.7672412303222292, 1.6014986004699334, -0.529418362632328, 0.3593251598106649, -0.7621658567276495, 1.2418942573307754, -0.7409696268275313, -0.5735374148005455, 1.9135439485200991, -0.2883218062495649, -0.5921318472956748, -0.7774143322488324, -0.1017676485702797, 1.6004305493107311, -0.5707168511347334, -0.2194499176393392, -0.43019480483085704, -0.4240393861900358, -0.7301732821793449, -0.7707157412383773, -0.5271979089883349, 1.920915935779922, -0.6926716013303709, -0.6246964344250329, 0.7081257950636164, 0.037998959478995877, -0.7458333201589908, 0.25665780465636695, -0.03904910504967047, -0.7582998814674061, -0.708891952384747, -0.18255902279687258, -0.71583170550078, 0.13194248664332772, 1.4133205248450984, -0.5490797517185336, -0.46938903308903457, -0.5680724120423233, 1.092957732171299, 0.17466142463311987, 0.4978324418319262, 0.20076602725013892, 2.4582228722250052, -0.4857573457971725, -0.7171409987972908, 0.18000683158056716, -0.3682495743247049, -0.6881051248268197, -0.7426413216153886, -0.1939814777001771, -0.18031529831475251, -0.7774143322488324, -0.22202999576894653, -0.2453744472748327, -0.715769782296408, -0.7281694907832797, 0.10869849433106758, 1.169416675346755, -0.7493456127325586, -0.7480791957882001, -0.739056566599384, -0.511154625984824, -0.7476284094149245, 0.2229085919791429, -0.6302700569430398, -0.7536912589469832, 1.9066717512323534, -0.7774143322488324, 2.045040220838142, -0.22157735357442557, -0.7636448868758682, -0.5849082677279823, -0.6057360280107464, 0.9695285017037746, -0.7623703740942107, -0.7037095200634479, -0.7672411361944241, -0.75998850698007, 2.3202202614782856, -0.5584834379357113, 0.15987105569743046, -0.6564601052154733, 1.5922509465784025, 0.037872980081978064, 2.575819023701949, -0.5375964482872589, 1.0184114345574384, 0.8756790462876388, 1.3272097838884223, 0.18067541664985792, -0.7644391738740409, -0.7774143322488324, -0.7774143322488324, -0.5344787649363241, -0.25851162417280793, -0.7146850518833657, 0.2492215278902722, -0.749199131302199, -0.11535512846191709, 2.2292624171781936, -0.7774143322488324, 0.402831838815279, 2.247368152958955, -0.7563472222979126, -0.6846798870622436, -0.19706169356450262, 1.3955912915294304, 1.361566653053102, -0.7747080749012952, -0.7774143322488324, -0.7534906773391646, -0.5077874812334026, 0.20491354273697904, -0.18085455353575905, -0.762718173330549, 0.35694582999504265, -0.5877437757425257, 2.104695343720694, -0.7763593159394213, 1.9561056231507228, -0.6966745890018844, -0.7236719289924806, -0.7774143322488324, -0.676840758439212, -0.7763226058298494, -0.7164411184002955, -0.7175059586862236, -0.7150245488431046], \"yaxis\": \"y\"}],                        {\"legend\": {\"tracegroupgap\": 0}, \"template\": {\"data\": {\"bar\": [{\"error_x\": {\"color\": \"#2a3f5f\"}, \"error_y\": {\"color\": \"#2a3f5f\"}, \"marker\": {\"line\": {\"color\": \"#E5ECF6\", \"width\": 0.5}}, \"type\": \"bar\"}], \"barpolar\": [{\"marker\": {\"line\": {\"color\": \"#E5ECF6\", \"width\": 0.5}}, \"type\": \"barpolar\"}], \"carpet\": [{\"aaxis\": {\"endlinecolor\": \"#2a3f5f\", \"gridcolor\": \"white\", \"linecolor\": \"white\", \"minorgridcolor\": \"white\", \"startlinecolor\": \"#2a3f5f\"}, \"baxis\": {\"endlinecolor\": \"#2a3f5f\", \"gridcolor\": \"white\", \"linecolor\": \"white\", \"minorgridcolor\": \"white\", \"startlinecolor\": \"#2a3f5f\"}, \"type\": \"carpet\"}], \"choropleth\": [{\"colorbar\": {\"outlinewidth\": 0, \"ticks\": \"\"}, \"type\": \"choropleth\"}], \"contour\": [{\"colorbar\": {\"outlinewidth\": 0, \"ticks\": \"\"}, \"colorscale\": [[0.0, \"#0d0887\"], [0.1111111111111111, \"#46039f\"], [0.2222222222222222, \"#7201a8\"], [0.3333333333333333, \"#9c179e\"], [0.4444444444444444, \"#bd3786\"], [0.5555555555555556, \"#d8576b\"], [0.6666666666666666, \"#ed7953\"], [0.7777777777777778, \"#fb9f3a\"], [0.8888888888888888, \"#fdca26\"], [1.0, \"#f0f921\"]], \"type\": \"contour\"}], \"contourcarpet\": [{\"colorbar\": {\"outlinewidth\": 0, \"ticks\": \"\"}, \"type\": \"contourcarpet\"}], \"heatmap\": [{\"colorbar\": {\"outlinewidth\": 0, \"ticks\": \"\"}, \"colorscale\": [[0.0, \"#0d0887\"], [0.1111111111111111, \"#46039f\"], [0.2222222222222222, \"#7201a8\"], [0.3333333333333333, \"#9c179e\"], [0.4444444444444444, \"#bd3786\"], [0.5555555555555556, \"#d8576b\"], [0.6666666666666666, \"#ed7953\"], [0.7777777777777778, \"#fb9f3a\"], [0.8888888888888888, \"#fdca26\"], [1.0, \"#f0f921\"]], \"type\": \"heatmap\"}], \"heatmapgl\": [{\"colorbar\": {\"outlinewidth\": 0, \"ticks\": \"\"}, \"colorscale\": [[0.0, \"#0d0887\"], [0.1111111111111111, \"#46039f\"], [0.2222222222222222, \"#7201a8\"], [0.3333333333333333, \"#9c179e\"], [0.4444444444444444, \"#bd3786\"], [0.5555555555555556, \"#d8576b\"], [0.6666666666666666, \"#ed7953\"], [0.7777777777777778, \"#fb9f3a\"], [0.8888888888888888, \"#fdca26\"], [1.0, \"#f0f921\"]], \"type\": \"heatmapgl\"}], \"histogram\": [{\"marker\": {\"colorbar\": {\"outlinewidth\": 0, \"ticks\": \"\"}}, \"type\": \"histogram\"}], \"histogram2d\": [{\"colorbar\": {\"outlinewidth\": 0, \"ticks\": \"\"}, \"colorscale\": [[0.0, \"#0d0887\"], [0.1111111111111111, \"#46039f\"], [0.2222222222222222, \"#7201a8\"], [0.3333333333333333, \"#9c179e\"], [0.4444444444444444, \"#bd3786\"], [0.5555555555555556, \"#d8576b\"], [0.6666666666666666, \"#ed7953\"], [0.7777777777777778, \"#fb9f3a\"], [0.8888888888888888, \"#fdca26\"], [1.0, \"#f0f921\"]], \"type\": \"histogram2d\"}], \"histogram2dcontour\": [{\"colorbar\": {\"outlinewidth\": 0, \"ticks\": \"\"}, \"colorscale\": [[0.0, \"#0d0887\"], [0.1111111111111111, \"#46039f\"], [0.2222222222222222, \"#7201a8\"], [0.3333333333333333, \"#9c179e\"], [0.4444444444444444, \"#bd3786\"], [0.5555555555555556, \"#d8576b\"], [0.6666666666666666, \"#ed7953\"], [0.7777777777777778, \"#fb9f3a\"], [0.8888888888888888, \"#fdca26\"], [1.0, \"#f0f921\"]], \"type\": \"histogram2dcontour\"}], \"mesh3d\": [{\"colorbar\": {\"outlinewidth\": 0, \"ticks\": \"\"}, \"type\": \"mesh3d\"}], \"parcoords\": [{\"line\": {\"colorbar\": {\"outlinewidth\": 0, \"ticks\": \"\"}}, \"type\": \"parcoords\"}], \"pie\": [{\"automargin\": true, \"type\": \"pie\"}], \"scatter\": [{\"marker\": {\"colorbar\": {\"outlinewidth\": 0, \"ticks\": \"\"}}, \"type\": \"scatter\"}], \"scatter3d\": [{\"line\": {\"colorbar\": {\"outlinewidth\": 0, \"ticks\": \"\"}}, \"marker\": {\"colorbar\": {\"outlinewidth\": 0, \"ticks\": \"\"}}, \"type\": \"scatter3d\"}], \"scattercarpet\": [{\"marker\": {\"colorbar\": {\"outlinewidth\": 0, \"ticks\": \"\"}}, \"type\": \"scattercarpet\"}], \"scattergeo\": [{\"marker\": {\"colorbar\": {\"outlinewidth\": 0, \"ticks\": \"\"}}, \"type\": \"scattergeo\"}], \"scattergl\": [{\"marker\": {\"colorbar\": {\"outlinewidth\": 0, \"ticks\": \"\"}}, \"type\": \"scattergl\"}], \"scattermapbox\": [{\"marker\": {\"colorbar\": {\"outlinewidth\": 0, \"ticks\": \"\"}}, \"type\": \"scattermapbox\"}], \"scatterpolar\": [{\"marker\": {\"colorbar\": {\"outlinewidth\": 0, \"ticks\": \"\"}}, \"type\": \"scatterpolar\"}], \"scatterpolargl\": [{\"marker\": {\"colorbar\": {\"outlinewidth\": 0, \"ticks\": \"\"}}, \"type\": \"scatterpolargl\"}], \"scatterternary\": [{\"marker\": {\"colorbar\": {\"outlinewidth\": 0, \"ticks\": \"\"}}, \"type\": \"scatterternary\"}], \"surface\": [{\"colorbar\": {\"outlinewidth\": 0, \"ticks\": \"\"}, \"colorscale\": [[0.0, \"#0d0887\"], [0.1111111111111111, \"#46039f\"], [0.2222222222222222, \"#7201a8\"], [0.3333333333333333, \"#9c179e\"], [0.4444444444444444, \"#bd3786\"], [0.5555555555555556, \"#d8576b\"], [0.6666666666666666, \"#ed7953\"], [0.7777777777777778, \"#fb9f3a\"], [0.8888888888888888, \"#fdca26\"], [1.0, \"#f0f921\"]], \"type\": \"surface\"}], \"table\": [{\"cells\": {\"fill\": {\"color\": \"#EBF0F8\"}, \"line\": {\"color\": \"white\"}}, \"header\": {\"fill\": {\"color\": \"#C8D4E3\"}, \"line\": {\"color\": \"white\"}}, \"type\": \"table\"}]}, \"layout\": {\"annotationdefaults\": {\"arrowcolor\": \"#2a3f5f\", \"arrowhead\": 0, \"arrowwidth\": 1}, \"autotypenumbers\": \"strict\", \"coloraxis\": {\"colorbar\": {\"outlinewidth\": 0, \"ticks\": \"\"}}, \"colorscale\": {\"diverging\": [[0, \"#8e0152\"], [0.1, \"#c51b7d\"], [0.2, \"#de77ae\"], [0.3, \"#f1b6da\"], [0.4, \"#fde0ef\"], [0.5, \"#f7f7f7\"], [0.6, \"#e6f5d0\"], [0.7, \"#b8e186\"], [0.8, \"#7fbc41\"], [0.9, \"#4d9221\"], [1, \"#276419\"]], \"sequential\": [[0.0, \"#0d0887\"], [0.1111111111111111, \"#46039f\"], [0.2222222222222222, \"#7201a8\"], [0.3333333333333333, \"#9c179e\"], [0.4444444444444444, \"#bd3786\"], [0.5555555555555556, \"#d8576b\"], [0.6666666666666666, \"#ed7953\"], [0.7777777777777778, \"#fb9f3a\"], [0.8888888888888888, \"#fdca26\"], [1.0, \"#f0f921\"]], \"sequentialminus\": [[0.0, \"#0d0887\"], [0.1111111111111111, \"#46039f\"], [0.2222222222222222, \"#7201a8\"], [0.3333333333333333, \"#9c179e\"], [0.4444444444444444, \"#bd3786\"], [0.5555555555555556, \"#d8576b\"], [0.6666666666666666, \"#ed7953\"], [0.7777777777777778, \"#fb9f3a\"], [0.8888888888888888, \"#fdca26\"], [1.0, \"#f0f921\"]]}, \"colorway\": [\"#636efa\", \"#EF553B\", \"#00cc96\", \"#ab63fa\", \"#FFA15A\", \"#19d3f3\", \"#FF6692\", \"#B6E880\", \"#FF97FF\", \"#FECB52\"], \"font\": {\"color\": \"#2a3f5f\"}, \"geo\": {\"bgcolor\": \"white\", \"lakecolor\": \"white\", \"landcolor\": \"#E5ECF6\", \"showlakes\": true, \"showland\": true, \"subunitcolor\": \"white\"}, \"hoverlabel\": {\"align\": \"left\"}, \"hovermode\": \"closest\", \"mapbox\": {\"style\": \"light\"}, \"paper_bgcolor\": \"white\", \"plot_bgcolor\": \"#E5ECF6\", \"polar\": {\"angularaxis\": {\"gridcolor\": \"white\", \"linecolor\": \"white\", \"ticks\": \"\"}, \"bgcolor\": \"#E5ECF6\", \"radialaxis\": {\"gridcolor\": \"white\", \"linecolor\": \"white\", \"ticks\": \"\"}}, \"scene\": {\"xaxis\": {\"backgroundcolor\": \"#E5ECF6\", \"gridcolor\": \"white\", \"gridwidth\": 2, \"linecolor\": \"white\", \"showbackground\": true, \"ticks\": \"\", \"zerolinecolor\": \"white\"}, \"yaxis\": {\"backgroundcolor\": \"#E5ECF6\", \"gridcolor\": \"white\", \"gridwidth\": 2, \"linecolor\": \"white\", \"showbackground\": true, \"ticks\": \"\", \"zerolinecolor\": \"white\"}, \"zaxis\": {\"backgroundcolor\": \"#E5ECF6\", \"gridcolor\": \"white\", \"gridwidth\": 2, \"linecolor\": \"white\", \"showbackground\": true, \"ticks\": \"\", \"zerolinecolor\": \"white\"}}, \"shapedefaults\": {\"line\": {\"color\": \"#2a3f5f\"}}, \"ternary\": {\"aaxis\": {\"gridcolor\": \"white\", \"linecolor\": \"white\", \"ticks\": \"\"}, \"baxis\": {\"gridcolor\": \"white\", \"linecolor\": \"white\", \"ticks\": \"\"}, \"bgcolor\": \"#E5ECF6\", \"caxis\": {\"gridcolor\": \"white\", \"linecolor\": \"white\", \"ticks\": \"\"}}, \"title\": {\"x\": 0.05}, \"xaxis\": {\"automargin\": true, \"gridcolor\": \"white\", \"linecolor\": \"white\", \"ticks\": \"\", \"title\": {\"standoff\": 15}, \"zerolinecolor\": \"white\", \"zerolinewidth\": 2}, \"yaxis\": {\"automargin\": true, \"gridcolor\": \"white\", \"linecolor\": \"white\", \"ticks\": \"\", \"title\": {\"standoff\": 15}, \"zerolinecolor\": \"white\", \"zerolinewidth\": 2}}}, \"title\": {\"text\": \"Death vs Animal fats\"}, \"xaxis\": {\"anchor\": \"y\", \"domain\": [0.0, 1.0], \"title\": {\"text\": \"Animal fats\"}}, \"yaxis\": {\"anchor\": \"x\", \"domain\": [0.0, 1.0], \"title\": {\"text\": \"Deaths\"}}},                        {\"responsive\": true}                    ).then(function(){\n",
       "                            \n",
       "var gd = document.getElementById('d9ea298f-fd44-4143-826f-52323895a222');\n",
       "var x = new MutationObserver(function (mutations, observer) {{\n",
       "        var display = window.getComputedStyle(gd).display;\n",
       "        if (!display || display === 'none') {{\n",
       "            console.log([gd, 'removed!']);\n",
       "            Plotly.purge(gd);\n",
       "            observer.disconnect();\n",
       "        }}\n",
       "}});\n",
       "\n",
       "// Listen for the removal of the full notebook cells\n",
       "var notebookContainer = gd.closest('#notebook-container');\n",
       "if (notebookContainer) {{\n",
       "    x.observe(notebookContainer, {childList: true});\n",
       "}}\n",
       "\n",
       "// Listen for the clearing of the current output cell\n",
       "var outputEl = gd.closest('.output');\n",
       "if (outputEl) {{\n",
       "    x.observe(outputEl, {childList: true});\n",
       "}}\n",
       "\n",
       "                        })                };                });            </script>        </div>"
      ]
     },
     "metadata": {},
     "output_type": "display_data"
    }
   ],
   "source": [
    "fig = px.scatter(fat_quantity_scaled, x='Animal fats', y='Deaths', title=\"Death vs Animal fats\", hover_name='Country')\n",
    "fig.show()\n",
    "# pas vraiment de corrélation ?"
   ]
  },
  {
   "cell_type": "markdown",
   "metadata": {},
   "source": [
    "## K-means and Elbow method"
   ]
  },
  {
   "cell_type": "markdown",
   "metadata": {},
   "source": [
    "We start with the K-Means model:\n",
    "- use the scikit-learn method\n",
    "- use the method you implemented.\n",
    "\n",
    "Use a graphical tool, the elbow method, to estimate the optimal number of clusters k for a given task.\n",
    "- Determine the optimal number of clusters for the previous 2 plots."
   ]
  },
  {
   "cell_type": "code",
   "execution_count": 104,
   "metadata": {
    "collapsed": true
   },
   "outputs": [
    {
     "data": {
      "text/plain": [
       "[4620.000000000001,\n",
       " 3758.8283386107414,\n",
       " 3489.5362862526486,\n",
       " 3280.128294355003,\n",
       " 3181.04188112485,\n",
       " 2904.851558832981,\n",
       " 2803.36836376946,\n",
       " 2647.8057532034236,\n",
       " 2559.0039218034453,\n",
       " 2413.6360718989217,\n",
       " 2294.4461672985167,\n",
       " 2199.1870695478497,\n",
       " 2056.127011016687,\n",
       " 1961.5182366612953,\n",
       " 1875.2312709133926,\n",
       " 1803.8657648233766,\n",
       " 1776.330384449505,\n",
       " 1675.6927178521291,\n",
       " 1656.8282035914317,\n",
       " 1595.8741054467632,\n",
       " 1557.2253652682466,\n",
       " 1490.2972786939592,\n",
       " 1410.3495617538892,\n",
       " 1375.3909338692038,\n",
       " 1340.3966750491832,\n",
       " 1318.3470965615347,\n",
       " 1285.0796770833654,\n",
       " 1228.6300169786161,\n",
       " 1218.1212067105412,\n",
       " 1214.0611271572388,\n",
       " 1175.6941246186186,\n",
       " 1127.525407997274,\n",
       " 1095.3913826222085,\n",
       " 1084.5633146725022,\n",
       " 1064.6365734778335,\n",
       " 1031.951954062903,\n",
       " 1018.2627717051625,\n",
       " 980.399241615608,\n",
       " 954.2402052820923,\n",
       " 954.6833178593398,\n",
       " 941.3496262252079,\n",
       " 925.409466741572,\n",
       " 900.21485224151,\n",
       " 883.7462155836148,\n",
       " 851.5939476545743,\n",
       " 840.2743911221254,\n",
       " 833.7693929216804,\n",
       " 814.952198789419,\n",
       " 800.3942155551078]"
      ]
     },
     "execution_count": 104,
     "metadata": {},
     "output_type": "execute_result"
    }
   ],
   "source": [
    "# Avec l'algo sklearn KMeans\n",
    "\n",
    "from sklearn.cluster import KMeans\n",
    "\n",
    "# on calcule l'inertia du modèle en changeant à chaque fois le nombre de clusters sur tout le df\n",
    "inertia_kmeans_all=[]\n",
    "for nb_clusters in range(1,50):\n",
    "    kmeans=KMeans(n_clusters=nb_clusters)\n",
    "    kmeans.fit(fat_quantity_scaled.drop('Country',axis=1))\n",
    "    inertia_kmeans_all.append(kmeans.inertia_)\n",
    "inertia_kmeans_all"
   ]
  },
  {
   "cell_type": "markdown",
   "metadata": {},
   "source": [
    "Plot the obtained clusters"
   ]
  },
  {
   "cell_type": "code",
   "execution_count": 106,
   "metadata": {
    "scrolled": false
   },
   "outputs": [
    {
     "data": {
      "text/plain": [
       "[<matplotlib.lines.Line2D at 0x1a90c95c7f0>]"
      ]
     },
     "execution_count": 106,
     "metadata": {},
     "output_type": "execute_result"
    },
    {
     "data": {
      "image/png": "[encoded data removed]",
      "text/plain": [
       "<Figure size 1600x800 with 1 Axes>"
      ]
     },
     "metadata": {
      "needs_background": "light"
     },
     "output_type": "display_data"
    }
   ],
   "source": [
    "# on plot l'inertia en fonction du nb de clusters sur tout le df\n",
    "from matplotlib.pyplot import figure\n",
    "figure(figsize=(20,10), dpi=80)\n",
    "\n",
    "x=range(1,50)\n",
    "plt.plot(x,inertia_kmeans_all)\n",
    "\n",
    "# on voit pas le elbow qu'on est censés observer: trop de données"
   ]
  },
  {
   "cell_type": "code",
   "execution_count": 113,
   "metadata": {},
   "outputs": [
    {
     "data": {
      "text/plain": [
       "[<matplotlib.lines.Line2D at 0x1a912241f10>]"
      ]
     },
     "execution_count": 113,
     "metadata": {},
     "output_type": "execute_result"
    },
    {
     "data": {
      "image/png": "[encoded data removed]",
      "text/plain": [
       "<Figure size 1600x800 with 1 Axes>"
      ]
     },
     "metadata": {
      "needs_background": "light"
     },
     "output_type": "display_data"
    }
   ],
   "source": [
    "df_obesity_deaths=fat_quantity_scaled[[\"Obesity\",\"Deaths\"]]\n",
    "inertia_kmeans_obesity=[]\n",
    "for nb_clusters in range(1,15):\n",
    "    kmeans=KMeans(n_clusters=nb_clusters)\n",
    "    kmeans.fit(df_obesity_deaths)\n",
    "    inertia_kmeans_obesity.append(kmeans.inertia_)\n",
    "\n",
    "x=range(1,15)\n",
    "figure(figsize=(20,10), dpi=80)\n",
    "plt.plot(x,inertia_kmeans_obesity)\n",
    "\n",
    "# n_cluster = 3"
   ]
  },
  {
   "cell_type": "code",
   "execution_count": 112,
   "metadata": {
    "scrolled": false
   },
   "outputs": [
    {
     "data": {
      "text/plain": [
       "[<matplotlib.lines.Line2D at 0x1a91227d490>]"
      ]
     },
     "execution_count": 112,
     "metadata": {},
     "output_type": "execute_result"
    },
    {
     "data": {
      "image/png": "[encoded data removed]",
      "text/plain": [
       "<Figure size 1600x800 with 1 Axes>"
      ]
     },
     "metadata": {
      "needs_background": "light"
     },
     "output_type": "display_data"
    }
   ],
   "source": [
    "df_animalfats_deaths=fat_quantity_scaled[[\"Animal fats\",\"Deaths\"]]\n",
    "inertia_kmeans_animalfats=[]\n",
    "for nb_clusters in range(1,15):\n",
    "    kmeans=KMeans(n_clusters=nb_clusters)\n",
    "    kmeans.fit(df_animalfats_deaths)\n",
    "    inertia_kmeans_animalfats.append(kmeans.inertia_)\n",
    "\n",
    "x=range(1,15)\n",
    "figure(figsize=(20,10), dpi=80)\n",
    "plt.plot(x,inertia_kmeans_animalfats)\n",
    "\n",
    "# n_cluster = 2-3"
   ]
  },
  {
   "cell_type": "code",
   "execution_count": 161,
   "metadata": {},
   "outputs": [],
   "source": [
    "# Avec l'algorithme KMeans qu'on a implémenté nous même en ML3.2 (on l'a stocké dans un fichier .py au préalable)\n",
    "\n",
    "import kmeans"
   ]
  },
  {
   "cell_type": "code",
   "execution_count": 162,
   "metadata": {},
   "outputs": [
    {
     "name": "stdout",
     "output_type": "stream",
     "text": [
      "The autoreload extension is already loaded. To reload it, use:\n",
      "  %reload_ext autoreload\n"
     ]
    }
   ],
   "source": [
    "%load_ext autoreload \n",
    "%autoreload 2\n",
    "# à chaque modif du fichier .py, recharge la bibliothèque de tous les modules (recharge que celles qui ont changé)"
   ]
  },
  {
   "cell_type": "code",
   "execution_count": 163,
   "metadata": {},
   "outputs": [],
   "source": [
    "kmean=kmeans.KMeans(k=3)"
   ]
  },
  {
   "cell_type": "code",
   "execution_count": 164,
   "metadata": {
    "collapsed": true
   },
   "outputs": [
    {
     "ename": "KeyError",
     "evalue": "False",
     "output_type": "error",
     "traceback": [
      "\u001b[1;31m---------------------------------------------------------------------------\u001b[0m",
      "\u001b[1;31mKeyError\u001b[0m                                  Traceback (most recent call last)",
      "\u001b[1;32m~\\anaconda3\\lib\\site-packages\\pandas\\core\\indexes\\base.py\u001b[0m in \u001b[0;36mget_loc\u001b[1;34m(self, key, method, tolerance)\u001b[0m\n\u001b[0;32m   2894\u001b[0m             \u001b[1;32mtry\u001b[0m\u001b[1;33m:\u001b[0m\u001b[1;33m\u001b[0m\u001b[1;33m\u001b[0m\u001b[0m\n\u001b[1;32m-> 2895\u001b[1;33m                 \u001b[1;32mreturn\u001b[0m \u001b[0mself\u001b[0m\u001b[1;33m.\u001b[0m\u001b[0m_engine\u001b[0m\u001b[1;33m.\u001b[0m\u001b[0mget_loc\u001b[0m\u001b[1;33m(\u001b[0m\u001b[0mcasted_key\u001b[0m\u001b[1;33m)\u001b[0m\u001b[1;33m\u001b[0m\u001b[1;33m\u001b[0m\u001b[0m\n\u001b[0m\u001b[0;32m   2896\u001b[0m             \u001b[1;32mexcept\u001b[0m \u001b[0mKeyError\u001b[0m \u001b[1;32mas\u001b[0m \u001b[0merr\u001b[0m\u001b[1;33m:\u001b[0m\u001b[1;33m\u001b[0m\u001b[1;33m\u001b[0m\u001b[0m\n",
      "\u001b[1;32mpandas\\_libs\\index.pyx\u001b[0m in \u001b[0;36mpandas._libs.index.IndexEngine.get_loc\u001b[1;34m()\u001b[0m\n",
      "\u001b[1;32mpandas\\_libs\\index.pyx\u001b[0m in \u001b[0;36mpandas._libs.index.IndexEngine.get_loc\u001b[1;34m()\u001b[0m\n",
      "\u001b[1;32mpandas\\_libs\\hashtable_class_helper.pxi\u001b[0m in \u001b[0;36mpandas._libs.hashtable.PyObjectHashTable.get_item\u001b[1;34m()\u001b[0m\n",
      "\u001b[1;32mpandas\\_libs\\hashtable_class_helper.pxi\u001b[0m in \u001b[0;36mpandas._libs.hashtable.PyObjectHashTable.get_item\u001b[1;34m()\u001b[0m\n",
      "\u001b[1;31mKeyError\u001b[0m: False",
      "\nThe above exception was the direct cause of the following exception:\n",
      "\u001b[1;31mKeyError\u001b[0m                                  Traceback (most recent call last)",
      "\u001b[1;32m<ipython-input-164-09f2d3cc73f8>\u001b[0m in \u001b[0;36m<module>\u001b[1;34m\u001b[0m\n\u001b[1;32m----> 1\u001b[1;33m \u001b[0mkmean\u001b[0m\u001b[1;33m.\u001b[0m\u001b[0mfit_predict\u001b[0m\u001b[1;33m(\u001b[0m\u001b[0mnp\u001b[0m\u001b[1;33m.\u001b[0m\u001b[0marray\u001b[0m\u001b[1;33m(\u001b[0m\u001b[0mdf_obesity_deaths\u001b[0m\u001b[1;33m)\u001b[0m\u001b[1;33m)\u001b[0m\u001b[1;33m\u001b[0m\u001b[1;33m\u001b[0m\u001b[0m\n\u001b[0m",
      "\u001b[1;32m~\\Documents\\- Docs professionnels -\\Data sciences\\Machine learning\\Partie 3 - Oana + Marie\\notebook\\kmeans.py\u001b[0m in \u001b[0;36mfit_predict\u001b[1;34m(self, X)\u001b[0m\n\u001b[0;32m     61\u001b[0m         \u001b[1;32mfor\u001b[0m \u001b[0mi\u001b[0m \u001b[1;32min\u001b[0m \u001b[0mrange\u001b[0m\u001b[1;33m(\u001b[0m\u001b[1;36m10\u001b[0m\u001b[1;33m)\u001b[0m\u001b[1;33m:\u001b[0m\u001b[1;33m\u001b[0m\u001b[1;33m\u001b[0m\u001b[0m\n\u001b[0;32m     62\u001b[0m             \u001b[0my_pred\u001b[0m\u001b[1;33m=\u001b[0m\u001b[0mself\u001b[0m\u001b[1;33m.\u001b[0m\u001b[0mprediction_y\u001b[0m\u001b[1;33m(\u001b[0m\u001b[0mX\u001b[0m\u001b[1;33m,\u001b[0m\u001b[0mcoords_centroids\u001b[0m\u001b[1;33m)\u001b[0m\u001b[1;33m\u001b[0m\u001b[1;33m\u001b[0m\u001b[0m\n\u001b[1;32m---> 63\u001b[1;33m             \u001b[0mself\u001b[0m\u001b[1;33m.\u001b[0m\u001b[0mcentroids_deplaces_centre_clusters\u001b[0m\u001b[1;33m(\u001b[0m\u001b[0mX\u001b[0m\u001b[1;33m,\u001b[0m\u001b[0my_pred\u001b[0m\u001b[1;33m,\u001b[0m\u001b[0mcoords_centroids\u001b[0m\u001b[1;33m)\u001b[0m\u001b[1;33m\u001b[0m\u001b[1;33m\u001b[0m\u001b[0m\n\u001b[0m\u001b[0;32m     64\u001b[0m         \u001b[1;32mreturn\u001b[0m \u001b[0mcoords_centroids\u001b[0m\u001b[1;33m,\u001b[0m\u001b[0my_pred\u001b[0m\u001b[1;33m\u001b[0m\u001b[1;33m\u001b[0m\u001b[0m\n",
      "\u001b[1;32m~\\Documents\\- Docs professionnels -\\Data sciences\\Machine learning\\Partie 3 - Oana + Marie\\notebook\\kmeans.py\u001b[0m in \u001b[0;36mcentroids_deplaces_centre_clusters\u001b[1;34m(self, X, y_pred, coords_centroids)\u001b[0m\n\u001b[0;32m     54\u001b[0m         \u001b[1;31m# on remplace les coordonnées précédentes des centroids par les coordonnées du centre de chaque cluster\u001b[0m\u001b[1;33m\u001b[0m\u001b[1;33m\u001b[0m\u001b[1;33m\u001b[0m\u001b[0m\n\u001b[0;32m     55\u001b[0m         \u001b[1;32mfor\u001b[0m \u001b[0mkey\u001b[0m \u001b[1;32min\u001b[0m \u001b[0mcoords_centroids\u001b[0m\u001b[1;33m:\u001b[0m\u001b[1;33m\u001b[0m\u001b[1;33m\u001b[0m\u001b[0m\n\u001b[1;32m---> 56\u001b[1;33m             \u001b[0mcoords_centroids\u001b[0m\u001b[1;33m[\u001b[0m\u001b[0mkey\u001b[0m\u001b[1;33m]\u001b[0m\u001b[1;33m=\u001b[0m\u001b[1;33m(\u001b[0m\u001b[0mconcat_X_ypred\u001b[0m\u001b[1;33m[\u001b[0m\u001b[0my_pred\u001b[0m\u001b[1;33m==\u001b[0m\u001b[0mkey\u001b[0m\u001b[1;33m]\u001b[0m\u001b[1;33m.\u001b[0m\u001b[0mmean\u001b[0m\u001b[1;33m(\u001b[0m\u001b[1;33m)\u001b[0m\u001b[1;33m.\u001b[0m\u001b[0mX0\u001b[0m\u001b[1;33m,\u001b[0m\u001b[0mconcat_X_ypred\u001b[0m\u001b[1;33m[\u001b[0m\u001b[0my_pred\u001b[0m\u001b[1;33m==\u001b[0m\u001b[0mkey\u001b[0m\u001b[1;33m]\u001b[0m\u001b[1;33m.\u001b[0m\u001b[0mmean\u001b[0m\u001b[1;33m(\u001b[0m\u001b[1;33m)\u001b[0m\u001b[1;33m.\u001b[0m\u001b[0mX1\u001b[0m\u001b[1;33m)\u001b[0m\u001b[1;33m\u001b[0m\u001b[1;33m\u001b[0m\u001b[0m\n\u001b[0m\u001b[0;32m     57\u001b[0m         \u001b[1;32mreturn\u001b[0m \u001b[0mcoords_centroids\u001b[0m\u001b[1;33m\u001b[0m\u001b[1;33m\u001b[0m\u001b[0m\n\u001b[0;32m     58\u001b[0m \u001b[1;33m\u001b[0m\u001b[0m\n",
      "\u001b[1;32m~\\anaconda3\\lib\\site-packages\\pandas\\core\\frame.py\u001b[0m in \u001b[0;36m__getitem__\u001b[1;34m(self, key)\u001b[0m\n\u001b[0;32m   2900\u001b[0m             \u001b[1;32mif\u001b[0m \u001b[0mself\u001b[0m\u001b[1;33m.\u001b[0m\u001b[0mcolumns\u001b[0m\u001b[1;33m.\u001b[0m\u001b[0mnlevels\u001b[0m \u001b[1;33m>\u001b[0m \u001b[1;36m1\u001b[0m\u001b[1;33m:\u001b[0m\u001b[1;33m\u001b[0m\u001b[1;33m\u001b[0m\u001b[0m\n\u001b[0;32m   2901\u001b[0m                 \u001b[1;32mreturn\u001b[0m \u001b[0mself\u001b[0m\u001b[1;33m.\u001b[0m\u001b[0m_getitem_multilevel\u001b[0m\u001b[1;33m(\u001b[0m\u001b[0mkey\u001b[0m\u001b[1;33m)\u001b[0m\u001b[1;33m\u001b[0m\u001b[1;33m\u001b[0m\u001b[0m\n\u001b[1;32m-> 2902\u001b[1;33m             \u001b[0mindexer\u001b[0m \u001b[1;33m=\u001b[0m \u001b[0mself\u001b[0m\u001b[1;33m.\u001b[0m\u001b[0mcolumns\u001b[0m\u001b[1;33m.\u001b[0m\u001b[0mget_loc\u001b[0m\u001b[1;33m(\u001b[0m\u001b[0mkey\u001b[0m\u001b[1;33m)\u001b[0m\u001b[1;33m\u001b[0m\u001b[1;33m\u001b[0m\u001b[0m\n\u001b[0m\u001b[0;32m   2903\u001b[0m             \u001b[1;32mif\u001b[0m \u001b[0mis_integer\u001b[0m\u001b[1;33m(\u001b[0m\u001b[0mindexer\u001b[0m\u001b[1;33m)\u001b[0m\u001b[1;33m:\u001b[0m\u001b[1;33m\u001b[0m\u001b[1;33m\u001b[0m\u001b[0m\n\u001b[0;32m   2904\u001b[0m                 \u001b[0mindexer\u001b[0m \u001b[1;33m=\u001b[0m \u001b[1;33m[\u001b[0m\u001b[0mindexer\u001b[0m\u001b[1;33m]\u001b[0m\u001b[1;33m\u001b[0m\u001b[1;33m\u001b[0m\u001b[0m\n",
      "\u001b[1;32m~\\anaconda3\\lib\\site-packages\\pandas\\core\\indexes\\base.py\u001b[0m in \u001b[0;36mget_loc\u001b[1;34m(self, key, method, tolerance)\u001b[0m\n\u001b[0;32m   2895\u001b[0m                 \u001b[1;32mreturn\u001b[0m \u001b[0mself\u001b[0m\u001b[1;33m.\u001b[0m\u001b[0m_engine\u001b[0m\u001b[1;33m.\u001b[0m\u001b[0mget_loc\u001b[0m\u001b[1;33m(\u001b[0m\u001b[0mcasted_key\u001b[0m\u001b[1;33m)\u001b[0m\u001b[1;33m\u001b[0m\u001b[1;33m\u001b[0m\u001b[0m\n\u001b[0;32m   2896\u001b[0m             \u001b[1;32mexcept\u001b[0m \u001b[0mKeyError\u001b[0m \u001b[1;32mas\u001b[0m \u001b[0merr\u001b[0m\u001b[1;33m:\u001b[0m\u001b[1;33m\u001b[0m\u001b[1;33m\u001b[0m\u001b[0m\n\u001b[1;32m-> 2897\u001b[1;33m                 \u001b[1;32mraise\u001b[0m \u001b[0mKeyError\u001b[0m\u001b[1;33m(\u001b[0m\u001b[0mkey\u001b[0m\u001b[1;33m)\u001b[0m \u001b[1;32mfrom\u001b[0m \u001b[0merr\u001b[0m\u001b[1;33m\u001b[0m\u001b[1;33m\u001b[0m\u001b[0m\n\u001b[0m\u001b[0;32m   2898\u001b[0m \u001b[1;33m\u001b[0m\u001b[0m\n\u001b[0;32m   2899\u001b[0m         \u001b[1;32mif\u001b[0m \u001b[0mtolerance\u001b[0m \u001b[1;32mis\u001b[0m \u001b[1;32mnot\u001b[0m \u001b[1;32mNone\u001b[0m\u001b[1;33m:\u001b[0m\u001b[1;33m\u001b[0m\u001b[1;33m\u001b[0m\u001b[0m\n",
      "\u001b[1;31mKeyError\u001b[0m: False"
     ]
    }
   ],
   "source": [
    "kmean.fit_predict(np.array(df_obesity_deaths))"
   ]
  },
  {
   "cell_type": "markdown",
   "metadata": {},
   "source": [
    "## Other clustering methods"
   ]
  },
  {
   "cell_type": "markdown",
   "metadata": {},
   "source": [
    "We are going to explore other clustering methods, such as Mean-Shift.\n",
    "\n",
    "You can read more about it in the next ressource:\n",
    "https://scikit-learn.org/stable/modules/clustering.html\n"
   ]
  },
  {
   "cell_type": "markdown",
   "metadata": {},
   "source": [
    "Apply the method to our datasets made of 2 variables (\"Obesity\" vs \"Deaths\")"
   ]
  },
  {
   "cell_type": "code",
   "execution_count": 2,
   "metadata": {},
   "outputs": [],
   "source": [
    "# Mean-Shift\n",
    "from sklearn.cluster import MeanShift, estimate_bandwidth\n"
   ]
  },
  {
   "cell_type": "markdown",
   "metadata": {},
   "source": [
    "Plot the obtained clusters"
   ]
  },
  {
   "cell_type": "code",
   "execution_count": null,
   "metadata": {},
   "outputs": [],
   "source": []
  },
  {
   "cell_type": "markdown",
   "metadata": {},
   "source": [
    "Check out other algorithms such as DBSAN or OPTICS, why are these algorithms very interesting and in what cases? "
   ]
  },
  {
   "cell_type": "code",
   "execution_count": 36,
   "metadata": {},
   "outputs": [],
   "source": [
    "from sklearn.cluster import DBSCAN\n"
   ]
  },
  {
   "cell_type": "code",
   "execution_count": null,
   "metadata": {},
   "outputs": [],
   "source": []
  },
  {
   "cell_type": "markdown",
   "metadata": {},
   "source": [
    "# Classification and prediction"
   ]
  },
  {
   "cell_type": "markdown",
   "metadata": {},
   "source": [
    "Given this dataset and the emphasis we have already laid on deaths through clustering, it would be interesting to study this dataset for a classification purpose and see how accurately we can predict the mortality rate in fonction of the given features."
   ]
  },
  {
   "cell_type": "markdown",
   "metadata": {},
   "source": [
    "## Creating train and test sets "
   ]
  },
  {
   "cell_type": "markdown",
   "metadata": {},
   "source": [
    "Let's separate the data into a training and testing sets using random selection."
   ]
  },
  {
   "cell_type": "code",
   "execution_count": null,
   "metadata": {},
   "outputs": [],
   "source": []
  },
  {
   "cell_type": "markdown",
   "metadata": {},
   "source": [
    "Now drop the labels from the training set and create a new variable for the labels."
   ]
  },
  {
   "cell_type": "code",
   "execution_count": 42,
   "metadata": {},
   "outputs": [],
   "source": []
  },
  {
   "cell_type": "markdown",
   "metadata": {},
   "source": [
    "Scale the datasets."
   ]
  },
  {
   "cell_type": "code",
   "execution_count": 44,
   "metadata": {},
   "outputs": [],
   "source": []
  },
  {
   "cell_type": "markdown",
   "metadata": {},
   "source": [
    "## Random Forest"
   ]
  },
  {
   "cell_type": "markdown",
   "metadata": {},
   "source": [
    "Let's try a random forest model on the prepared fat_quantity training set."
   ]
  },
  {
   "cell_type": "code",
   "execution_count": 47,
   "metadata": {},
   "outputs": [
    {
     "data": {
      "text/plain": [
       "RandomForestRegressor(random_state=42)"
      ]
     },
     "execution_count": 47,
     "metadata": {},
     "output_type": "execute_result"
    }
   ],
   "source": []
  },
  {
   "cell_type": "markdown",
   "metadata": {},
   "source": [
    "Now we predict."
   ]
  },
  {
   "cell_type": "code",
   "execution_count": null,
   "metadata": {},
   "outputs": [],
   "source": []
  },
  {
   "cell_type": "markdown",
   "metadata": {},
   "source": [
    "Let's perform a 10 fold cross validation.\n",
    "And display the resulting scores:"
   ]
  },
  {
   "cell_type": "code",
   "execution_count": null,
   "metadata": {},
   "outputs": [],
   "source": []
  },
  {
   "cell_type": "markdown",
   "metadata": {},
   "source": [
    "## Learning Curves analysis "
   ]
  },
  {
   "cell_type": "markdown",
   "metadata": {},
   "source": [
    "Use the function seen in **Module 1 to plot learning curves with cross validation.** "
   ]
  },
  {
   "cell_type": "code",
   "execution_count": 31,
   "metadata": {},
   "outputs": [],
   "source": [
    "from sklearn.model_selection import learning_curve\n",
    "\n",
    "def plot_learning_curve(estimator, title, X, y, axes=None, ylim=None, cv=None,\n",
    "                        n_jobs=None, train_sizes=np.linspace(.1, 1.0, 5)):\n",
    "...."
   ]
  },
  {
   "cell_type": "markdown",
   "metadata": {},
   "source": [
    "Try to interpret the obtained learning curve."
   ]
  },
  {
   "cell_type": "code",
   "execution_count": null,
   "metadata": {},
   "outputs": [],
   "source": []
  },
  {
   "cell_type": "markdown",
   "metadata": {},
   "source": [
    "Perform a grid search to try to obtain the best hyperparameters. What is the best score that you obtained?"
   ]
  },
  {
   "cell_type": "code",
   "execution_count": 77,
   "metadata": {},
   "outputs": [],
   "source": []
  },
  {
   "cell_type": "markdown",
   "metadata": {},
   "source": [
    "## SVM"
   ]
  },
  {
   "cell_type": "markdown",
   "metadata": {},
   "source": [
    "Use the SVM regressor to estimate the death rate. See if you can get a better model than with the Random forest regressor."
   ]
  },
  {
   "cell_type": "code",
   "execution_count": 28,
   "metadata": {},
   "outputs": [
    {
     "data": {
      "text/plain": [
       "SVR(epsilon=0.2)"
      ]
     },
     "execution_count": 28,
     "metadata": {},
     "output_type": "execute_result"
    }
   ],
   "source": [
    "from sklearn.svm import SVR"
   ]
  },
  {
   "cell_type": "markdown",
   "metadata": {},
   "source": [
    "## Linear regression"
   ]
  },
  {
   "cell_type": "code",
   "execution_count": 3,
   "metadata": {},
   "outputs": [],
   "source": [
    "from sklearn.linear_model import LinearRegression"
   ]
  },
  {
   "cell_type": "markdown",
   "metadata": {},
   "source": [
    "# Dimensionality reduction"
   ]
  },
  {
   "cell_type": "markdown",
   "metadata": {},
   "source": [
    "Let's take a look at the whole dataset and see if there are any clusters.\n",
    "\n",
    "In order to do these perform and plot a PCA of 2 components.\n",
    "\n",
    "Dimensionality reduction is a way to reduce the number of features in your dataset without having to lose much information and keep the model’s performance. Check out the Random Forest based method and PCA for dimensionality reduction in the following ressource:\n",
    "\n",
    "https://www.analyticsvidhya.com/blog/2018/08/dimensionality-reduction-techniques-python/"
   ]
  },
  {
   "cell_type": "markdown",
   "metadata": {},
   "source": [
    "## Random Forest feature selection"
   ]
  },
  {
   "cell_type": "code",
   "execution_count": 50,
   "metadata": {},
   "outputs": [],
   "source": []
  },
  {
   "cell_type": "markdown",
   "metadata": {},
   "source": [
    "Plot the feature importance graph."
   ]
  },
  {
   "cell_type": "code",
   "execution_count": null,
   "metadata": {},
   "outputs": [],
   "source": []
  },
  {
   "cell_type": "markdown",
   "metadata": {},
   "source": [
    "Comment the graph."
   ]
  },
  {
   "cell_type": "markdown",
   "metadata": {},
   "source": [
    "## PCA dimensionality reduction"
   ]
  },
  {
   "cell_type": "markdown",
   "metadata": {},
   "source": [
    "PCA is a technique which helps us in extracting a new set of variables from an existing large set of variables. Apply clustering methods on this new set of variables. Are the clusters obtained different than the clusters obtained on the \"Obesity\" vs \"Deaths\"?\n",
    "\n",
    "Apply the Elbow method to determne the right number of clusters.\n",
    "\n",
    "Use diverse methods to cluster the countries."
   ]
  },
  {
   "cell_type": "code",
   "execution_count": 52,
   "metadata": {},
   "outputs": [],
   "source": []
  }
 ],
 "metadata": {
  "kernelspec": {
   "display_name": "Python 3",
   "language": "python",
   "name": "python3"
  },
  "language_info": {
   "codemirror_mode": {
    "name": "ipython",
    "version": 3
   },
   "file_extension": ".py",
   "mimetype": "text/x-python",
   "name": "python",
   "nbconvert_exporter": "python",
   "pygments_lexer": "ipython3",
   "version": "3.8.5"
  },
  "toc": {
   "base_numbering": 1,
   "nav_menu": {},
   "number_sections": true,
   "sideBar": true,
   "skip_h1_title": false,
   "title_cell": "Table of Contents",
   "title_sidebar": "Contents",
   "toc_cell": false,
   "toc_position": {
    "height": "calc(100% - 180px)",
    "left": "10px",
    "top": "150px",
    "width": "187px"
   },
   "toc_section_display": true,
   "toc_window_display": true
  },
  "varInspector": {
   "cols": {
    "lenName": 16,
    "lenType": 16,
    "lenVar": 40
   },
   "kernels_config": {
    "python": {
     "delete_cmd_postfix": "",
     "delete_cmd_prefix": "del ",
     "library": "var_list.py",
     "varRefreshCmd": "print(var_dic_list())"
    },
    "r": {
     "delete_cmd_postfix": ") ",
     "delete_cmd_prefix": "rm(",
     "library": "var_list.r",
     "varRefreshCmd": "cat(var_dic_list()) "
    }
   },
   "types_to_exclude": [
    "module",
    "function",
    "builtin_function_or_method",
    "instance",
    "_Feature"
   ],
   "window_display": false
  }
 },
 "nbformat": 4,
 "nbformat_minor": 4
}
